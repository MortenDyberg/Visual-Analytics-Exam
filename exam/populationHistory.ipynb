{
 "cells": [
  {
   "cell_type": "markdown",
   "metadata": {},
   "source": [
    "# Explanation of Script \n",
    "The dataset \"Electric_Vehicle_Population_Size_History_By_County.csv\" has been investigated and later cleaned.\n",
    "\n",
    "The cleaned file can be found in the *data/out* path.\n",
    "\n",
    "**Cleaning/Transformation operations**\n",
    "\n",
    "**(1.** Filtering data:\n",
    "- State = Washington (WA)\n",
    "\n",
    "**(2.** Dropping columns\n",
    "\n",
    "**(3.** Changing dtype of column:\n",
    "- 'Date'\n",
    "\n",
    "**(4.** Sorting data"
   ]
  },
  {
   "cell_type": "markdown",
   "metadata": {},
   "source": [
    "# Load packages"
   ]
  },
  {
   "cell_type": "code",
   "execution_count": 1,
   "metadata": {},
   "outputs": [],
   "source": [
    "import pandas as pd"
   ]
  },
  {
   "cell_type": "code",
   "execution_count": 2,
   "metadata": {},
   "outputs": [],
   "source": [
    "df = pd.read_csv(\"data/in/Electric_Vehicle_Population_Size_History_By_County.csv\")"
   ]
  },
  {
   "cell_type": "markdown",
   "metadata": {},
   "source": [
    "# (1 Investigate data"
   ]
  },
  {
   "cell_type": "code",
   "execution_count": 3,
   "metadata": {},
   "outputs": [
    {
     "data": {
      "text/plain": [
       "Index(['Date', 'County', 'State', 'Vehicle Primary Use',\n",
       "       'Battery Electric Vehicles (BEVs)',\n",
       "       'Plug-In Hybrid Electric Vehicles (PHEVs)',\n",
       "       'Electric Vehicle (EV) Total', 'Non-Electric Vehicle Total',\n",
       "       'Total Vehicles', 'Percent Electric Vehicles'],\n",
       "      dtype='object')"
      ]
     },
     "execution_count": 3,
     "metadata": {},
     "output_type": "execute_result"
    }
   ],
   "source": [
    "df.columns"
   ]
  },
  {
   "cell_type": "code",
   "execution_count": 4,
   "metadata": {},
   "outputs": [
    {
     "data": {
      "text/plain": [
       "2021    2908\n",
       "2020    2787\n",
       "2019    2666\n",
       "2022    2600\n",
       "2018    2426\n",
       "2017    2216\n",
       "Name: Date, dtype: int64"
      ]
     },
     "execution_count": 4,
     "metadata": {},
     "output_type": "execute_result"
    }
   ],
   "source": [
    "pd.DatetimeIndex(df['Date']).year.value_counts()"
   ]
  },
  {
   "cell_type": "markdown",
   "metadata": {},
   "source": [
    "Period ranging from 2017 to 2021"
   ]
  },
  {
   "cell_type": "markdown",
   "metadata": {},
   "source": [
    "#### Vehicle Primary use"
   ]
  },
  {
   "cell_type": "code",
   "execution_count": 5,
   "metadata": {},
   "outputs": [
    {
     "data": {
      "text/plain": [
       "Passenger    12824\n",
       "Truck         2779\n",
       "Name: Vehicle Primary Use, dtype: int64"
      ]
     },
     "execution_count": 5,
     "metadata": {},
     "output_type": "execute_result"
    }
   ],
   "source": [
    "df['Vehicle Primary Use'].value_counts()"
   ]
  },
  {
   "cell_type": "markdown",
   "metadata": {},
   "source": [
    "Dataset contains only Truck and Passenger values"
   ]
  },
  {
   "cell_type": "markdown",
   "metadata": {},
   "source": [
    "#### Example of filtering by 'County' column - Note: no data is removed by this operation, while its not using the equal sign"
   ]
  },
  {
   "cell_type": "code",
   "execution_count": 6,
   "metadata": {},
   "outputs": [
    {
     "data": {
      "text/html": [
       "<div>\n",
       "<style scoped>\n",
       "    .dataframe tbody tr th:only-of-type {\n",
       "        vertical-align: middle;\n",
       "    }\n",
       "\n",
       "    .dataframe tbody tr th {\n",
       "        vertical-align: top;\n",
       "    }\n",
       "\n",
       "    .dataframe thead th {\n",
       "        text-align: right;\n",
       "    }\n",
       "</style>\n",
       "<table border=\"1\" class=\"dataframe\">\n",
       "  <thead>\n",
       "    <tr style=\"text-align: right;\">\n",
       "      <th></th>\n",
       "      <th>Date</th>\n",
       "      <th>County</th>\n",
       "      <th>State</th>\n",
       "      <th>Vehicle Primary Use</th>\n",
       "      <th>Battery Electric Vehicles (BEVs)</th>\n",
       "      <th>Plug-In Hybrid Electric Vehicles (PHEVs)</th>\n",
       "      <th>Electric Vehicle (EV) Total</th>\n",
       "      <th>Non-Electric Vehicle Total</th>\n",
       "      <th>Total Vehicles</th>\n",
       "      <th>Percent Electric Vehicles</th>\n",
       "    </tr>\n",
       "  </thead>\n",
       "  <tbody>\n",
       "    <tr>\n",
       "      <th>187</th>\n",
       "      <td>January 31 2017</td>\n",
       "      <td>Yakima</td>\n",
       "      <td>WA</td>\n",
       "      <td>Truck</td>\n",
       "      <td>0</td>\n",
       "      <td>0</td>\n",
       "      <td>0</td>\n",
       "      <td>57338</td>\n",
       "      <td>57338</td>\n",
       "      <td>0.00</td>\n",
       "    </tr>\n",
       "    <tr>\n",
       "      <th>188</th>\n",
       "      <td>January 31 2017</td>\n",
       "      <td>Yakima</td>\n",
       "      <td>WA</td>\n",
       "      <td>Passenger</td>\n",
       "      <td>36</td>\n",
       "      <td>49</td>\n",
       "      <td>85</td>\n",
       "      <td>159951</td>\n",
       "      <td>160036</td>\n",
       "      <td>0.05</td>\n",
       "    </tr>\n",
       "    <tr>\n",
       "      <th>373</th>\n",
       "      <td>February 28 2017</td>\n",
       "      <td>Yakima</td>\n",
       "      <td>WA</td>\n",
       "      <td>Passenger</td>\n",
       "      <td>36</td>\n",
       "      <td>50</td>\n",
       "      <td>86</td>\n",
       "      <td>159147</td>\n",
       "      <td>159233</td>\n",
       "      <td>0.05</td>\n",
       "    </tr>\n",
       "    <tr>\n",
       "      <th>374</th>\n",
       "      <td>February 28 2017</td>\n",
       "      <td>Yakima</td>\n",
       "      <td>WA</td>\n",
       "      <td>Truck</td>\n",
       "      <td>0</td>\n",
       "      <td>0</td>\n",
       "      <td>0</td>\n",
       "      <td>57224</td>\n",
       "      <td>57224</td>\n",
       "      <td>0.00</td>\n",
       "    </tr>\n",
       "    <tr>\n",
       "      <th>557</th>\n",
       "      <td>March 31 2017</td>\n",
       "      <td>Yakima</td>\n",
       "      <td>WA</td>\n",
       "      <td>Passenger</td>\n",
       "      <td>36</td>\n",
       "      <td>50</td>\n",
       "      <td>86</td>\n",
       "      <td>159246</td>\n",
       "      <td>159332</td>\n",
       "      <td>0.05</td>\n",
       "    </tr>\n",
       "    <tr>\n",
       "      <th>...</th>\n",
       "      <td>...</td>\n",
       "      <td>...</td>\n",
       "      <td>...</td>\n",
       "      <td>...</td>\n",
       "      <td>...</td>\n",
       "      <td>...</td>\n",
       "      <td>...</td>\n",
       "      <td>...</td>\n",
       "      <td>...</td>\n",
       "      <td>...</td>\n",
       "    </tr>\n",
       "    <tr>\n",
       "      <th>15160</th>\n",
       "      <td>September 30 2022</td>\n",
       "      <td>Yakima</td>\n",
       "      <td>WA</td>\n",
       "      <td>Truck</td>\n",
       "      <td>3</td>\n",
       "      <td>0</td>\n",
       "      <td>3</td>\n",
       "      <td>60782</td>\n",
       "      <td>60785</td>\n",
       "      <td>0.00</td>\n",
       "    </tr>\n",
       "    <tr>\n",
       "      <th>15379</th>\n",
       "      <td>October 31 2022</td>\n",
       "      <td>Yakima</td>\n",
       "      <td>WA</td>\n",
       "      <td>Passenger</td>\n",
       "      <td>385</td>\n",
       "      <td>210</td>\n",
       "      <td>595</td>\n",
       "      <td>163697</td>\n",
       "      <td>164292</td>\n",
       "      <td>0.36</td>\n",
       "    </tr>\n",
       "    <tr>\n",
       "      <th>15380</th>\n",
       "      <td>October 31 2022</td>\n",
       "      <td>Yakima</td>\n",
       "      <td>WA</td>\n",
       "      <td>Truck</td>\n",
       "      <td>5</td>\n",
       "      <td>0</td>\n",
       "      <td>5</td>\n",
       "      <td>60109</td>\n",
       "      <td>60114</td>\n",
       "      <td>0.01</td>\n",
       "    </tr>\n",
       "    <tr>\n",
       "      <th>15599</th>\n",
       "      <td>November 30 2022</td>\n",
       "      <td>Yakima</td>\n",
       "      <td>WA</td>\n",
       "      <td>Passenger</td>\n",
       "      <td>399</td>\n",
       "      <td>208</td>\n",
       "      <td>607</td>\n",
       "      <td>161264</td>\n",
       "      <td>161871</td>\n",
       "      <td>0.37</td>\n",
       "    </tr>\n",
       "    <tr>\n",
       "      <th>15600</th>\n",
       "      <td>November 30 2022</td>\n",
       "      <td>Yakima</td>\n",
       "      <td>WA</td>\n",
       "      <td>Truck</td>\n",
       "      <td>6</td>\n",
       "      <td>0</td>\n",
       "      <td>6</td>\n",
       "      <td>59044</td>\n",
       "      <td>59050</td>\n",
       "      <td>0.01</td>\n",
       "    </tr>\n",
       "  </tbody>\n",
       "</table>\n",
       "<p>142 rows × 10 columns</p>\n",
       "</div>"
      ],
      "text/plain": [
       "                    Date  County State Vehicle Primary Use  \\\n",
       "187      January 31 2017  Yakima    WA               Truck   \n",
       "188      January 31 2017  Yakima    WA           Passenger   \n",
       "373     February 28 2017  Yakima    WA           Passenger   \n",
       "374     February 28 2017  Yakima    WA               Truck   \n",
       "557        March 31 2017  Yakima    WA           Passenger   \n",
       "...                  ...     ...   ...                 ...   \n",
       "15160  September 30 2022  Yakima    WA               Truck   \n",
       "15379    October 31 2022  Yakima    WA           Passenger   \n",
       "15380    October 31 2022  Yakima    WA               Truck   \n",
       "15599   November 30 2022  Yakima    WA           Passenger   \n",
       "15600   November 30 2022  Yakima    WA               Truck   \n",
       "\n",
       "       Battery Electric Vehicles (BEVs)  \\\n",
       "187                                   0   \n",
       "188                                  36   \n",
       "373                                  36   \n",
       "374                                   0   \n",
       "557                                  36   \n",
       "...                                 ...   \n",
       "15160                                 3   \n",
       "15379                               385   \n",
       "15380                                 5   \n",
       "15599                               399   \n",
       "15600                                 6   \n",
       "\n",
       "       Plug-In Hybrid Electric Vehicles (PHEVs)  Electric Vehicle (EV) Total  \\\n",
       "187                                           0                            0   \n",
       "188                                          49                           85   \n",
       "373                                          50                           86   \n",
       "374                                           0                            0   \n",
       "557                                          50                           86   \n",
       "...                                         ...                          ...   \n",
       "15160                                         0                            3   \n",
       "15379                                       210                          595   \n",
       "15380                                         0                            5   \n",
       "15599                                       208                          607   \n",
       "15600                                         0                            6   \n",
       "\n",
       "       Non-Electric Vehicle Total  Total Vehicles  Percent Electric Vehicles  \n",
       "187                         57338           57338                       0.00  \n",
       "188                        159951          160036                       0.05  \n",
       "373                        159147          159233                       0.05  \n",
       "374                         57224           57224                       0.00  \n",
       "557                        159246          159332                       0.05  \n",
       "...                           ...             ...                        ...  \n",
       "15160                       60782           60785                       0.00  \n",
       "15379                      163697          164292                       0.36  \n",
       "15380                       60109           60114                       0.01  \n",
       "15599                      161264          161871                       0.37  \n",
       "15600                       59044           59050                       0.01  \n",
       "\n",
       "[142 rows x 10 columns]"
      ]
     },
     "execution_count": 6,
     "metadata": {},
     "output_type": "execute_result"
    }
   ],
   "source": [
    "df.query('County == \"Yakima\"')"
   ]
  },
  {
   "cell_type": "markdown",
   "metadata": {},
   "source": [
    "\n",
    "# (2 Cleaning Data"
   ]
  },
  {
   "cell_type": "markdown",
   "metadata": {},
   "source": [
    "#### (2.1 Filtering data"
   ]
  },
  {
   "cell_type": "code",
   "execution_count": 7,
   "metadata": {},
   "outputs": [],
   "source": [
    "# Limiting data to Washington state.\n",
    "df = df.query(\"State == 'WA'\")"
   ]
  },
  {
   "cell_type": "markdown",
   "metadata": {},
   "source": [
    "#### (2.2 Dropping columns"
   ]
  },
  {
   "cell_type": "code",
   "execution_count": 8,
   "metadata": {},
   "outputs": [],
   "source": [
    "drop = ['Vehicle Primary Use', 'Non-Electric Vehicle Total', 'Total Vehicles', 'Percent Electric Vehicles']\n",
    "df.drop(drop, axis='columns', inplace=True)"
   ]
  },
  {
   "cell_type": "markdown",
   "metadata": {},
   "source": [
    "#### (2.3 Changing dtype "
   ]
  },
  {
   "cell_type": "code",
   "execution_count": 9,
   "metadata": {},
   "outputs": [],
   "source": [
    "# Changing the 'Date' column into dtype: datetime64[ns].\n",
    "df['Date'] = pd.to_datetime(df['Date'])"
   ]
  },
  {
   "cell_type": "markdown",
   "metadata": {},
   "source": [
    "#### (2.4 Sorting data"
   ]
  },
  {
   "cell_type": "code",
   "execution_count": 10,
   "metadata": {},
   "outputs": [],
   "source": [
    "# Sorting data by 'Date' column - Ascending.\n",
    "df = df.sort_values('Date')"
   ]
  },
  {
   "cell_type": "code",
   "execution_count": 11,
   "metadata": {},
   "outputs": [
    {
     "data": {
      "text/plain": [
       "111     2017-01-31\n",
       "167     2017-01-31\n",
       "166     2017-01-31\n",
       "165     2017-01-31\n",
       "164     2017-01-31\n",
       "           ...    \n",
       "15545   2022-11-30\n",
       "15544   2022-11-30\n",
       "15543   2022-11-30\n",
       "15550   2022-11-30\n",
       "15600   2022-11-30\n",
       "Name: Date, Length: 5538, dtype: datetime64[ns]"
      ]
     },
     "execution_count": 11,
     "metadata": {},
     "output_type": "execute_result"
    }
   ],
   "source": [
    "df['Date']"
   ]
  },
  {
   "cell_type": "code",
   "execution_count": 12,
   "metadata": {},
   "outputs": [
    {
     "data": {
      "text/html": [
       "<div>\n",
       "<style scoped>\n",
       "    .dataframe tbody tr th:only-of-type {\n",
       "        vertical-align: middle;\n",
       "    }\n",
       "\n",
       "    .dataframe tbody tr th {\n",
       "        vertical-align: top;\n",
       "    }\n",
       "\n",
       "    .dataframe thead th {\n",
       "        text-align: right;\n",
       "    }\n",
       "</style>\n",
       "<table border=\"1\" class=\"dataframe\">\n",
       "  <thead>\n",
       "    <tr style=\"text-align: right;\">\n",
       "      <th></th>\n",
       "      <th>Date</th>\n",
       "      <th>County</th>\n",
       "      <th>State</th>\n",
       "      <th>Battery Electric Vehicles (BEVs)</th>\n",
       "      <th>Plug-In Hybrid Electric Vehicles (PHEVs)</th>\n",
       "      <th>Electric Vehicle (EV) Total</th>\n",
       "    </tr>\n",
       "  </thead>\n",
       "  <tbody>\n",
       "    <tr>\n",
       "      <th>111</th>\n",
       "      <td>2017-01-31</td>\n",
       "      <td>Adams</td>\n",
       "      <td>WA</td>\n",
       "      <td>0</td>\n",
       "      <td>0</td>\n",
       "      <td>0</td>\n",
       "    </tr>\n",
       "    <tr>\n",
       "      <th>167</th>\n",
       "      <td>2017-01-31</td>\n",
       "      <td>Skagit</td>\n",
       "      <td>WA</td>\n",
       "      <td>1</td>\n",
       "      <td>0</td>\n",
       "      <td>1</td>\n",
       "    </tr>\n",
       "    <tr>\n",
       "      <th>166</th>\n",
       "      <td>2017-01-31</td>\n",
       "      <td>San Juan</td>\n",
       "      <td>WA</td>\n",
       "      <td>84</td>\n",
       "      <td>31</td>\n",
       "      <td>115</td>\n",
       "    </tr>\n",
       "    <tr>\n",
       "      <th>165</th>\n",
       "      <td>2017-01-31</td>\n",
       "      <td>San Juan</td>\n",
       "      <td>WA</td>\n",
       "      <td>0</td>\n",
       "      <td>0</td>\n",
       "      <td>0</td>\n",
       "    </tr>\n",
       "    <tr>\n",
       "      <th>164</th>\n",
       "      <td>2017-01-31</td>\n",
       "      <td>Pierce</td>\n",
       "      <td>WA</td>\n",
       "      <td>822</td>\n",
       "      <td>750</td>\n",
       "      <td>1572</td>\n",
       "    </tr>\n",
       "  </tbody>\n",
       "</table>\n",
       "</div>"
      ],
      "text/plain": [
       "          Date    County State  Battery Electric Vehicles (BEVs)  \\\n",
       "111 2017-01-31     Adams    WA                                 0   \n",
       "167 2017-01-31    Skagit    WA                                 1   \n",
       "166 2017-01-31  San Juan    WA                                84   \n",
       "165 2017-01-31  San Juan    WA                                 0   \n",
       "164 2017-01-31    Pierce    WA                               822   \n",
       "\n",
       "     Plug-In Hybrid Electric Vehicles (PHEVs)  Electric Vehicle (EV) Total  \n",
       "111                                         0                            0  \n",
       "167                                         0                            1  \n",
       "166                                        31                          115  \n",
       "165                                         0                            0  \n",
       "164                                       750                         1572  "
      ]
     },
     "execution_count": 12,
     "metadata": {},
     "output_type": "execute_result"
    }
   ],
   "source": [
    "df.head(5)"
   ]
  },
  {
   "cell_type": "markdown",
   "metadata": {},
   "source": [
    "# Exporting cleaned file as a .csv file"
   ]
  },
  {
   "cell_type": "code",
   "execution_count": 13,
   "metadata": {},
   "outputs": [],
   "source": [
    "df.to_csv('data/out/populationHistory.csv', index=False)"
   ]
  },
  {
   "cell_type": "code",
   "execution_count": null,
   "metadata": {},
   "outputs": [],
   "source": []
  }
 ],
 "metadata": {
  "kernelspec": {
   "display_name": "base",
   "language": "python",
   "name": "python3"
  },
  "language_info": {
   "codemirror_mode": {
    "name": "ipython",
    "version": 3
   },
   "file_extension": ".py",
   "mimetype": "text/x-python",
   "name": "python",
   "nbconvert_exporter": "python",
   "pygments_lexer": "ipython3",
   "version": "3.8.5"
  },
  "vscode": {
   "interpreter": {
    "hash": "d3f6fc4e8711912eb57e28afb1b9cb657257233389dcce77c6e6e7304f0d6a64"
   }
  }
 },
 "nbformat": 4,
 "nbformat_minor": 2
}
