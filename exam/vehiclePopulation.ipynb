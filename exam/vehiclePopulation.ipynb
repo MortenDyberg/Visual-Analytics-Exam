{
 "cells": [
  {
   "cell_type": "markdown",
   "metadata": {},
   "source": [
    "# Explanation of Script \n",
    "\n",
    "The dataset \"Electric_Vehicle_Population_Data.csv\" has been investigated and later cleaned.\n",
    "\n",
    "The cleaned file can be found in the data/out path.\n",
    "\n",
    "**Cleaning/Transformation operations**\n",
    "\n",
    "**(1.** Filtering data:\n",
    "- State == 'WA'\n",
    "\n",
    "**(2.** Dropping columns\n",
    "\n",
    "**(3.** Dropping observations with missing values\n",
    "\n",
    "**(4.** Altering string columns:\n",
    "- 'Model'\n",
    "- 'Make'\n",
    "\n",
    "**(5.** Changing dtype of columns:\n",
    "- 'DOL Vehicle ID'\n",
    "- 'Model Year'\n",
    "\n",
    "**(6.** Adding new columns:\n",
    "- Separate columns for Latitude and Longitude, created from 'Vehicle Location' variable. (float)\n",
    "- manufacturerCountry (str)\n",
    "- americanOrForeign (boolean)"
   ]
  },
  {
   "cell_type": "markdown",
   "metadata": {},
   "source": [
    "# Load relevant packages"
   ]
  },
  {
   "cell_type": "code",
   "execution_count": 1,
   "metadata": {},
   "outputs": [],
   "source": [
    "import pandas as pd\n",
    "import numpy as np"
   ]
  },
  {
   "cell_type": "markdown",
   "metadata": {},
   "source": [
    "# (1 Investigate file"
   ]
  },
  {
   "cell_type": "code",
   "execution_count": 2,
   "metadata": {},
   "outputs": [],
   "source": [
    "df = pd.read_csv(\"data/in/Electric_Vehicle_Population_Data.csv\")"
   ]
  },
  {
   "cell_type": "code",
   "execution_count": 3,
   "metadata": {},
   "outputs": [
    {
     "data": {
      "text/plain": [
       "Index(['VIN (1-10)', 'County', 'City', 'State', 'Postal Code', 'Model Year',\n",
       "       'Make', 'Model', 'Electric Vehicle Type',\n",
       "       'Clean Alternative Fuel Vehicle (CAFV) Eligibility', 'Electric Range',\n",
       "       'Base MSRP', 'Legislative District', 'DOL Vehicle ID',\n",
       "       'Vehicle Location', 'Electric Utility', '2020 Census Tract'],\n",
       "      dtype='object')"
      ]
     },
     "execution_count": 3,
     "metadata": {},
     "output_type": "execute_result"
    }
   ],
   "source": [
    "df.columns"
   ]
  },
  {
   "cell_type": "code",
   "execution_count": 4,
   "metadata": {},
   "outputs": [
    {
     "data": {
      "text/plain": [
       "array(['FL', 'NV', 'WA', 'IL', 'NY', 'VA', 'OK', 'KS', nan, 'CA', 'NE',\n",
       "       'MD', 'CO', 'DC', 'TN', 'SC', 'CT', 'OR', 'TX', 'SD', 'HI', 'GA',\n",
       "       'MS', 'AR', 'NC', 'MO', 'UT', 'PA', 'DE', 'OH', 'WY', 'AL', 'ID',\n",
       "       'AZ', 'AK', 'LA', 'NM', 'WI', 'KY', 'NJ', 'MN', 'MA', 'ME', 'RI',\n",
       "       'NH', 'ND'], dtype=object)"
      ]
     },
     "execution_count": 4,
     "metadata": {},
     "output_type": "execute_result"
    }
   ],
   "source": [
    "df['State'].unique()"
   ]
  },
  {
   "cell_type": "markdown",
   "metadata": {},
   "source": [
    "#### 'County' column"
   ]
  },
  {
   "cell_type": "code",
   "execution_count": 5,
   "metadata": {},
   "outputs": [
    {
     "data": {
      "text/plain": [
       "array(['Monroe', 'Clark', 'Yakima', 'Skagit', 'Snohomish', 'Island',\n",
       "       'Thurston', 'Grant', 'St. Clair', 'Pierce', 'Saratoga', 'Stevens',\n",
       "       'King', 'Kitsap', 'Newport News', 'Jackson', 'Whitman', 'Lake',\n",
       "       'Spokane', 'Clallam', 'Cowlitz', 'Kittitas', 'Grays Harbor',\n",
       "       'Chelan', 'Whatcom', 'Benton', 'Walla Walla', 'Mason', 'San Juan',\n",
       "       'Lewis', 'Jefferson', 'Douglas', 'Klickitat', 'Geary', 'Skamania',\n",
       "       'Fairfax', nan, 'Franklin', 'Okanogan', 'Sonoma', 'Asotin',\n",
       "       'Ferry', 'Pacific', 'Riverside', 'Orange', 'Wahkiakum',\n",
       "       'Leavenworth', 'Contra Costa', 'Howard', 'Larimer',\n",
       "       'District of Columbia', 'Washington', 'Tipton', 'San Diego',\n",
       "       'Sumter', \"Prince George's\", 'New Haven', 'Lincoln', 'Las Animas',\n",
       "       'Frederick', 'Adams', 'Hidalgo', 'Pend Oreille', 'Bexar',\n",
       "       'Garfield', 'Pennington', 'Honolulu', 'Anne Arundel', 'Montgomery',\n",
       "       'Houston', 'Charleston', 'Monterey', 'Kern', 'Napa', 'Loudoun',\n",
       "       'Harrison', 'Pulaski', 'Cumberland', 'Los Angeles', 'Ray',\n",
       "       'Salt Lake', 'Solano', 'Allegheny', 'Carroll', 'Clackamas', 'Kent',\n",
       "       'Harris', 'Ventura', 'Hamilton', 'Polk', 'Placer', 'Calvert',\n",
       "       'Sheridan', 'Kings', 'El Paso', 'Portsmouth', 'Elmore',\n",
       "       'Santa Clara', 'Pinal', 'Wayne', 'Alameda', 'Maricopa', 'Stafford',\n",
       "       'Santa Barbara', 'Fairbanks North Star', 'Columbia', 'Plaquemines',\n",
       "       'Rock Island', 'Chaves', 'Palm Beach', 'Danville', 'Galveston',\n",
       "       'Virginia Beach', 'Suffolk', 'Louisa', 'Hillsborough', 'Denton',\n",
       "       'Bell', 'Norfolk', 'Okaloosa', 'Rockdale', 'Cook', 'Chesapeake',\n",
       "       'Alexandria', 'Charles', 'Boulder', 'Beaufort', 'St. Louis',\n",
       "       \"St. Mary's\", 'Marin', 'Arapahoe', 'Laramie', 'Multnomah', 'Hoke',\n",
       "       'Sarasota', 'Santa Cruz', 'Queens', 'Wichita', 'San Bernardino',\n",
       "       'Oldham', 'Onslow', 'Arlington', 'Sarpy', 'Moore', 'Sevier',\n",
       "       'Bartow', 'Sacramento', 'Camden', 'Hennepin', 'Middlesex',\n",
       "       'New London', 'Platte', 'Penobscot', 'Nassau', 'Richmond',\n",
       "       'Newport', 'Rockingham', 'San Mateo', 'DeKalb', 'Kauai',\n",
       "       'Burlington', 'St. Tammany', 'Bryan', 'Dorchester', 'Williams',\n",
       "       'Kootenai'], dtype=object)"
      ]
     },
     "execution_count": 5,
     "metadata": {},
     "output_type": "execute_result"
    }
   ],
   "source": [
    "df['County'].unique()"
   ]
  },
  {
   "cell_type": "markdown",
   "metadata": {},
   "source": [
    "#### 'Model year' column"
   ]
  },
  {
   "cell_type": "code",
   "execution_count": 6,
   "metadata": {},
   "outputs": [
    {
     "data": {
      "text/plain": [
       "2022.0    26469\n",
       "2021.0    18331\n",
       "2018.0    14214\n",
       "2020.0    11009\n",
       "2019.0    10247\n",
       "2017.0     8612\n",
       "2016.0     5724\n",
       "2015.0     4931\n",
       "2013.0     4684\n",
       "2014.0     3674\n",
       "2023.0     1884\n",
       "2012.0     1702\n",
       "2011.0      838\n",
       "2010.0       24\n",
       "2008.0       23\n",
       "2000.0       10\n",
       "1999.0        3\n",
       "2002.0        2\n",
       "1998.0        1\n",
       "1997.0        1\n",
       "Name: Model Year, dtype: int64"
      ]
     },
     "execution_count": 6,
     "metadata": {},
     "output_type": "execute_result"
    }
   ],
   "source": [
    "df['Model Year'].value_counts()"
   ]
  },
  {
   "cell_type": "markdown",
   "metadata": {},
   "source": [
    "Dataset has vehicles from 1997 to 2022"
   ]
  },
  {
   "cell_type": "markdown",
   "metadata": {},
   "source": [
    "#### 'Make' column"
   ]
  },
  {
   "cell_type": "code",
   "execution_count": 7,
   "metadata": {},
   "outputs": [
    {
     "data": {
      "text/plain": [
       "TESLA             51976\n",
       "NISSAN            12865\n",
       "CHEVROLET         10139\n",
       "FORD               5789\n",
       "BMW                4676\n",
       "KIA                4481\n",
       "TOYOTA             4389\n",
       "VOLKSWAGEN         2510\n",
       "AUDI               2325\n",
       "VOLVO              2285\n",
       "CHRYSLER           1789\n",
       "HYUNDAI            1410\n",
       "JEEP               1147\n",
       "RIVIAN              881\n",
       "FIAT                822\n",
       "PORSCHE             817\n",
       "HONDA               792\n",
       "MINI                629\n",
       "MITSUBISHI          587\n",
       "POLESTAR            557\n",
       "MERCEDES-BENZ       505\n",
       "SMART               272\n",
       "JAGUAR              219\n",
       "LINCOLN             168\n",
       "CADILLAC            107\n",
       "LUCID MOTORS         65\n",
       "SUBARU               59\n",
       "LAND ROVER           38\n",
       "LEXUS                33\n",
       "FISKER               20\n",
       "GENESIS              18\n",
       "AZURE DYNAMICS        7\n",
       "TH!NK                 3\n",
       "BENTLEY               3\n",
       "Name: Make, dtype: int64"
      ]
     },
     "execution_count": 7,
     "metadata": {},
     "output_type": "execute_result"
    }
   ],
   "source": [
    "df['Make'].value_counts()"
   ]
  },
  {
   "cell_type": "markdown",
   "metadata": {},
   "source": [
    "Tesla, Nissan and Chevrolet is the top 3 electric vehicles"
   ]
  },
  {
   "cell_type": "markdown",
   "metadata": {},
   "source": [
    "#### 'Electric Vehicle Type' column\n"
   ]
  },
  {
   "cell_type": "code",
   "execution_count": 8,
   "metadata": {},
   "outputs": [
    {
     "data": {
      "text/plain": [
       "Battery Electric Vehicle (BEV)            85875\n",
       "Plug-in Hybrid Electric Vehicle (PHEV)    26508\n",
       "Name: Electric Vehicle Type, dtype: int64"
      ]
     },
     "execution_count": 8,
     "metadata": {},
     "output_type": "execute_result"
    }
   ],
   "source": [
    "df['Electric Vehicle Type'].value_counts()"
   ]
  },
  {
   "cell_type": "markdown",
   "metadata": {},
   "source": [
    "#### 'Electrical range' column"
   ]
  },
  {
   "cell_type": "code",
   "execution_count": 9,
   "metadata": {},
   "outputs": [
    {
     "data": {
      "text/plain": [
       "count    112383.000000\n",
       "mean         87.818166\n",
       "std         102.329616\n",
       "min           0.000000\n",
       "25%           0.000000\n",
       "50%          32.000000\n",
       "75%         208.000000\n",
       "max         337.000000\n",
       "Name: Electric Range, dtype: float64"
      ]
     },
     "execution_count": 9,
     "metadata": {},
     "output_type": "execute_result"
    }
   ],
   "source": [
    "df['Electric Range'].describe()"
   ]
  },
  {
   "cell_type": "code",
   "execution_count": 10,
   "metadata": {},
   "outputs": [
    {
     "name": "stdout",
     "output_type": "stream",
     "text": [
      "There are 39156 vehicles with no electric range data. This amounts to 34.76392563524335 percent\n"
     ]
    }
   ],
   "source": [
    "noElectricRange = len(df.query('`Electric Range` == 0'))\n",
    "\n",
    "print(f'There are {noElectricRange} vehicles with no electric range data. This amounts to {noElectricRange/len(df)*100} percent')"
   ]
  },
  {
   "cell_type": "markdown",
   "metadata": {},
   "source": [
    "#### 'Base MSRP' column"
   ]
  },
  {
   "cell_type": "code",
   "execution_count": 11,
   "metadata": {},
   "outputs": [
    {
     "name": "stdout",
     "output_type": "stream",
     "text": [
      "108878 observations have no base MSRP data. This amounts to 96.66530532521264 percent\n"
     ]
    }
   ],
   "source": [
    "baseMSRP = len(df.query('`Base MSRP` == 0'))\n",
    "\n",
    "print(f'{baseMSRP} observations have no base MSRP data. This amounts to {baseMSRP/len(df)*100} percent')"
   ]
  },
  {
   "cell_type": "markdown",
   "metadata": {},
   "source": [
    "#### 'Legislative district' column"
   ]
  },
  {
   "cell_type": "code",
   "execution_count": 12,
   "metadata": {},
   "outputs": [
    {
     "data": {
      "text/plain": [
       "array([nan, 15., 39., 38.,  1., 21., 10., 40., 22., 13., 20.,  2., 32.,\n",
       "        7., 46., 30., 35., 44., 14.,  9.,  3., 23., 24.,  5., 33., 45.,\n",
       "       19., 27., 26., 25., 43., 17.,  6., 41., 37., 34., 31., 12., 28.,\n",
       "       48., 49.,  4., 29., 36., 42.,  8., 18., 11., 16., 47.])"
      ]
     },
     "execution_count": 12,
     "metadata": {},
     "output_type": "execute_result"
    }
   ],
   "source": [
    "df['Legislative District'].unique()"
   ]
  },
  {
   "cell_type": "markdown",
   "metadata": {},
   "source": [
    "#### checking missing values in any of the columns"
   ]
  },
  {
   "cell_type": "code",
   "execution_count": 13,
   "metadata": {},
   "outputs": [
    {
     "data": {
      "text/plain": [
       "VIN (1-10)                                             0\n",
       "County                                               251\n",
       "City                                                 251\n",
       "State                                                251\n",
       "Postal Code                                          251\n",
       "Model Year                                           251\n",
       "Make                                                 251\n",
       "Model                                                271\n",
       "Electric Vehicle Type                                251\n",
       "Clean Alternative Fuel Vehicle (CAFV) Eligibility    251\n",
       "Electric Range                                       251\n",
       "Base MSRP                                            251\n",
       "Legislative District                                 537\n",
       "DOL Vehicle ID                                       251\n",
       "Vehicle Location                                     275\n",
       "Electric Utility                                     694\n",
       "2020 Census Tract                                    251\n",
       "dtype: int64"
      ]
     },
     "execution_count": 13,
     "metadata": {},
     "output_type": "execute_result"
    }
   ],
   "source": [
    "df.isna().sum()"
   ]
  },
  {
   "cell_type": "code",
   "execution_count": 14,
   "metadata": {},
   "outputs": [
    {
     "data": {
      "text/plain": [
       "733"
      ]
     },
     "execution_count": 14,
     "metadata": {},
     "output_type": "execute_result"
    }
   ],
   "source": [
    "len(df[df.isnull().any(axis=1)])"
   ]
  },
  {
   "cell_type": "markdown",
   "metadata": {},
   "source": [
    "# (2 Cleaning data"
   ]
  },
  {
   "cell_type": "markdown",
   "metadata": {},
   "source": [
    "#### (2.1 Filtering data"
   ]
  },
  {
   "cell_type": "code",
   "execution_count": 15,
   "metadata": {},
   "outputs": [],
   "source": [
    "df = df.query(\"State == 'WA'\")"
   ]
  },
  {
   "cell_type": "markdown",
   "metadata": {},
   "source": [
    "#### (2.2 Dropping columns"
   ]
  },
  {
   "cell_type": "code",
   "execution_count": 16,
   "metadata": {},
   "outputs": [
    {
     "data": {
      "text/plain": [
       "Index(['VIN (1-10)', 'County', 'City', 'State', 'Postal Code', 'Model Year',\n",
       "       'Make', 'Model', 'Electric Vehicle Type',\n",
       "       'Clean Alternative Fuel Vehicle (CAFV) Eligibility', 'Electric Range',\n",
       "       'Base MSRP', 'Legislative District', 'DOL Vehicle ID',\n",
       "       'Vehicle Location', 'Electric Utility', '2020 Census Tract'],\n",
       "      dtype='object')"
      ]
     },
     "execution_count": 16,
     "metadata": {},
     "output_type": "execute_result"
    }
   ],
   "source": [
    "df.columns"
   ]
  },
  {
   "cell_type": "code",
   "execution_count": 17,
   "metadata": {},
   "outputs": [],
   "source": [
    "df = df.drop(\n",
    "    ['VIN (1-10)', 'Clean Alternative Fuel Vehicle (CAFV) Eligibility', 'Base MSRP', '2020 Census Tract', 'Legislative District', 'Electric Utility']\n",
    "    , axis='columns')"
   ]
  },
  {
   "cell_type": "markdown",
   "metadata": {},
   "source": [
    "#### (2.3 Dropping observations with missing values"
   ]
  },
  {
   "cell_type": "code",
   "execution_count": 18,
   "metadata": {},
   "outputs": [],
   "source": [
    "df = df.dropna().copy()"
   ]
  },
  {
   "cell_type": "markdown",
   "metadata": {},
   "source": [
    "Checking for duplicated rows"
   ]
  },
  {
   "cell_type": "code",
   "execution_count": 19,
   "metadata": {},
   "outputs": [
    {
     "data": {
      "text/plain": [
       "(112058, 112058)"
      ]
     },
     "execution_count": 19,
     "metadata": {},
     "output_type": "execute_result"
    }
   ],
   "source": [
    "len(df.duplicated(keep=False)), len(df)"
   ]
  },
  {
   "cell_type": "markdown",
   "metadata": {},
   "source": [
    "#### (2.4 Altering string columns"
   ]
  },
  {
   "cell_type": "code",
   "execution_count": 20,
   "metadata": {},
   "outputs": [],
   "source": [
    "df['Model'] = df['Model'].str.title()\n",
    "df['Make'] = df['Make'].str.upper()"
   ]
  },
  {
   "cell_type": "markdown",
   "metadata": {},
   "source": [
    "#### (2.5 Changing dtype of columns"
   ]
  },
  {
   "cell_type": "code",
   "execution_count": 21,
   "metadata": {},
   "outputs": [
    {
     "data": {
      "text/plain": [
       "County                    object\n",
       "City                      object\n",
       "State                     object\n",
       "Postal Code              float64\n",
       "Model Year                 int32\n",
       "Make                      object\n",
       "Model                     object\n",
       "Electric Vehicle Type     object\n",
       "Electric Range           float64\n",
       "DOL Vehicle ID             int32\n",
       "Vehicle Location          object\n",
       "dtype: object"
      ]
     },
     "execution_count": 21,
     "metadata": {},
     "output_type": "execute_result"
    }
   ],
   "source": [
    "df['DOL Vehicle ID'] = df['DOL Vehicle ID'].astype(int)\n",
    "df['Model Year'] = df['Model Year'].astype(int)\n",
    "df.dtypes"
   ]
  },
  {
   "cell_type": "markdown",
   "metadata": {},
   "source": [
    "#### (2.6 Adding new columns"
   ]
  },
  {
   "cell_type": "markdown",
   "metadata": {},
   "source": [
    "##### 'Longitude' and 'Latitude'"
   ]
  },
  {
   "cell_type": "code",
   "execution_count": 22,
   "metadata": {},
   "outputs": [],
   "source": [
    "df['Vehicle Location'] = df['Vehicle Location'].str.replace('POINT (', '', regex=False)\n",
    "df['Vehicle Location'] = df['Vehicle Location'].str.replace(')', '', regex=False)"
   ]
  },
  {
   "cell_type": "code",
   "execution_count": 23,
   "metadata": {},
   "outputs": [],
   "source": [
    "df[['Longitude', 'Latitude']] = df['Vehicle Location'].str.split(' ', 1, expand=True)\n",
    "df = df.astype({\"Longitude\": \"float\", \"Latitude\": \"float\"})\n",
    "df = df.drop('Vehicle Location', axis=1)"
   ]
  },
  {
   "cell_type": "code",
   "execution_count": 24,
   "metadata": {},
   "outputs": [],
   "source": [
    "#Removing observations with a location outside of WA:\n",
    "# Points were gathered using source (GPS Coordinates, Latitude and Longitude with Interactive Maps, n.d.) - full source in bibliography of report.\n",
    "# Using the tool, it is possible to click at the borders of the state to obtain the ranges for the latitude and longitude\n",
    "# This was done since several observations had coordinates in Mexico and Malaysia, which we assumed were errors. These observations are therefore removed.\n",
    "df = df.query(\"Latitude > 45.53359761204305 & Latitude < 49.00212680393799 & Longitude < -116.90669145505936 & Longitude > -124.75828882197806\")"
   ]
  },
  {
   "cell_type": "markdown",
   "metadata": {},
   "source": [
    "#### 'manufacturerCountry'"
   ]
  },
  {
   "cell_type": "code",
   "execution_count": 25,
   "metadata": {},
   "outputs": [],
   "source": [
    "manufacturerCountry = pd.read_excel('data/in/manufacturerCountry.xlsx')\n",
    "manufacturerCountry = manufacturerCountry.drop_duplicates()"
   ]
  },
  {
   "cell_type": "code",
   "execution_count": 26,
   "metadata": {},
   "outputs": [],
   "source": [
    "# add proper case, so the two dfs can be joined.\n",
    "manufacturerCountry['Make'] = manufacturerCountry['Make'].str.upper()"
   ]
  },
  {
   "cell_type": "code",
   "execution_count": 27,
   "metadata": {},
   "outputs": [],
   "source": [
    "df2 = pd.merge(df,\n",
    "                manufacturerCountry,\n",
    "                on='Make', how='left')"
   ]
  },
  {
   "cell_type": "code",
   "execution_count": 28,
   "metadata": {},
   "outputs": [
    {
     "data": {
      "text/plain": [
       "LUCID MOTORS      65\n",
       "FISKER            19\n",
       "GENESIS           18\n",
       "AZURE DYNAMICS     7\n",
       "TH!NK              3\n",
       "Name: Make, dtype: int64"
      ]
     },
     "execution_count": 28,
     "metadata": {},
     "output_type": "execute_result"
    }
   ],
   "source": [
    "df2[df2['manufacturerCountry'].isna()]['Make'].value_counts()"
   ]
  },
  {
   "cell_type": "markdown",
   "metadata": {},
   "source": [
    "#### Adding the country to the rest manually (Googling the names)"
   ]
  },
  {
   "cell_type": "code",
   "execution_count": 29,
   "metadata": {},
   "outputs": [],
   "source": [
    "df2.loc[df2['Make']==\"LUCID MOTORS\", \"manufacturerCountry\"] = 'United States'\n",
    "df2.loc[df2['Make']==\"FISKER\", \"manufacturerCountry\"] = 'United States'\n",
    "df2.loc[df2['Make']==\"GENESIS\", \"manufacturerCountry\"] = 'South Korea'\n",
    "df2.loc[df2['Make']==\"AZURE DYNAMICS\", \"manufacturerCountry\"] = 'United States'\n",
    "df2.loc[df2['Make']==\"TH!NK\", \"manufacturerCountry\"] = 'Norway'"
   ]
  },
  {
   "cell_type": "markdown",
   "metadata": {},
   "source": [
    "#### 'americanOrForeign'"
   ]
  },
  {
   "cell_type": "code",
   "execution_count": 30,
   "metadata": {},
   "outputs": [],
   "source": [
    "#np.where(condition, value if condition is true, value if condition is false)\n",
    "df2['americanOrForeign'] = np.where(df2['manufacturerCountry'] == 'United States', 'American', 'Foreign')"
   ]
  },
  {
   "cell_type": "code",
   "execution_count": 31,
   "metadata": {},
   "outputs": [
    {
     "data": {
      "text/plain": [
       "County                    object\n",
       "City                      object\n",
       "State                     object\n",
       "Postal Code              float64\n",
       "Model Year                 int32\n",
       "Make                      object\n",
       "Model                     object\n",
       "Electric Vehicle Type     object\n",
       "Electric Range           float64\n",
       "DOL Vehicle ID             int32\n",
       "Longitude                float64\n",
       "Latitude                 float64\n",
       "manufacturerCountry       object\n",
       "americanOrForeign         object\n",
       "dtype: object"
      ]
     },
     "execution_count": 31,
     "metadata": {},
     "output_type": "execute_result"
    }
   ],
   "source": [
    "df2.dtypes"
   ]
  },
  {
   "cell_type": "code",
   "execution_count": 32,
   "metadata": {},
   "outputs": [
    {
     "data": {
      "text/html": [
       "<div>\n",
       "<style scoped>\n",
       "    .dataframe tbody tr th:only-of-type {\n",
       "        vertical-align: middle;\n",
       "    }\n",
       "\n",
       "    .dataframe tbody tr th {\n",
       "        vertical-align: top;\n",
       "    }\n",
       "\n",
       "    .dataframe thead th {\n",
       "        text-align: right;\n",
       "    }\n",
       "</style>\n",
       "<table border=\"1\" class=\"dataframe\">\n",
       "  <thead>\n",
       "    <tr style=\"text-align: right;\">\n",
       "      <th></th>\n",
       "      <th>County</th>\n",
       "      <th>City</th>\n",
       "      <th>State</th>\n",
       "      <th>Postal Code</th>\n",
       "      <th>Model Year</th>\n",
       "      <th>Make</th>\n",
       "      <th>Model</th>\n",
       "      <th>Electric Vehicle Type</th>\n",
       "      <th>Electric Range</th>\n",
       "      <th>DOL Vehicle ID</th>\n",
       "      <th>Longitude</th>\n",
       "      <th>Latitude</th>\n",
       "      <th>manufacturerCountry</th>\n",
       "      <th>americanOrForeign</th>\n",
       "    </tr>\n",
       "  </thead>\n",
       "  <tbody>\n",
       "    <tr>\n",
       "      <th>0</th>\n",
       "      <td>Yakima</td>\n",
       "      <td>Yakima</td>\n",
       "      <td>WA</td>\n",
       "      <td>98901.0</td>\n",
       "      <td>2011</td>\n",
       "      <td>NISSAN</td>\n",
       "      <td>Leaf</td>\n",
       "      <td>Battery Electric Vehicle (BEV)</td>\n",
       "      <td>73.0</td>\n",
       "      <td>218972519</td>\n",
       "      <td>-120.50721</td>\n",
       "      <td>46.60448</td>\n",
       "      <td>Japan</td>\n",
       "      <td>Foreign</td>\n",
       "    </tr>\n",
       "    <tr>\n",
       "      <th>1</th>\n",
       "      <td>Skagit</td>\n",
       "      <td>Concrete</td>\n",
       "      <td>WA</td>\n",
       "      <td>98237.0</td>\n",
       "      <td>2017</td>\n",
       "      <td>CHEVROLET</td>\n",
       "      <td>Bolt Ev</td>\n",
       "      <td>Battery Electric Vehicle (BEV)</td>\n",
       "      <td>238.0</td>\n",
       "      <td>186750406</td>\n",
       "      <td>-121.75150</td>\n",
       "      <td>48.53892</td>\n",
       "      <td>United States</td>\n",
       "      <td>American</td>\n",
       "    </tr>\n",
       "  </tbody>\n",
       "</table>\n",
       "</div>"
      ],
      "text/plain": [
       "   County      City State  Postal Code  Model Year       Make    Model  \\\n",
       "0  Yakima    Yakima    WA      98901.0        2011     NISSAN     Leaf   \n",
       "1  Skagit  Concrete    WA      98237.0        2017  CHEVROLET  Bolt Ev   \n",
       "\n",
       "            Electric Vehicle Type  Electric Range  DOL Vehicle ID  Longitude  \\\n",
       "0  Battery Electric Vehicle (BEV)            73.0       218972519 -120.50721   \n",
       "1  Battery Electric Vehicle (BEV)           238.0       186750406 -121.75150   \n",
       "\n",
       "   Latitude manufacturerCountry americanOrForeign  \n",
       "0  46.60448               Japan           Foreign  \n",
       "1  48.53892       United States          American  "
      ]
     },
     "execution_count": 32,
     "metadata": {},
     "output_type": "execute_result"
    }
   ],
   "source": [
    "df2.head(2)"
   ]
  },
  {
   "cell_type": "markdown",
   "metadata": {},
   "source": [
    "# Export to csv"
   ]
  },
  {
   "cell_type": "code",
   "execution_count": 33,
   "metadata": {},
   "outputs": [],
   "source": [
    "df2.to_csv('data/out/vehiclePopulation.csv', index=False)"
   ]
  }
 ],
 "metadata": {
  "kernelspec": {
   "display_name": "Python 3",
   "language": "python",
   "name": "python3"
  },
  "language_info": {
   "codemirror_mode": {
    "name": "ipython",
    "version": 3
   },
   "file_extension": ".py",
   "mimetype": "text/x-python",
   "name": "python",
   "nbconvert_exporter": "python",
   "pygments_lexer": "ipython3",
   "version": "3.8.5"
  },
  "vscode": {
   "interpreter": {
    "hash": "d3f6fc4e8711912eb57e28afb1b9cb657257233389dcce77c6e6e7304f0d6a64"
   }
  }
 },
 "nbformat": 4,
 "nbformat_minor": 2
}
