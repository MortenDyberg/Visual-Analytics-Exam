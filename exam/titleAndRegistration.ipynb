{
 "cells": [
  {
   "cell_type": "markdown",
   "id": "6761303f",
   "metadata": {},
   "source": [
    "# Explanation of Script \n",
    "\n",
    "The dataset \"Electric_Vehicle_Title_and_Registration_Activity.csv\" has been investigated and later cleaned.\n",
    "\n",
    "The cleaned file can be found in the data/out path.\n",
    "\n",
    "**Cleaning/Transformation operations**\n",
    "\n",
    "**(1.** Filtering data:\n",
    "- Vehicle primary use limited to Passenger and Truck\n",
    "- State of Residence = 'WA'\n",
    "- Transaction Type = Original Title' or 'Transfer Title'\n",
    "- Subsetting dataset to only include transactions that have a sales price (=! 0)\n",
    "\n",
    "**(2.** Dropping columns\n",
    "\n",
    "**(3.** Altering string columns\n",
    "- 'City' column\n",
    "- 'Make' column\n",
    "\n",
    "**(4.** Sorting data\n",
    "\n",
    "\n",
    "**(5.** Changing dtype of columns:\n",
    "- 'Sale Date'\n",
    "- 'DOL Transaction Date'\n",
    "\n",
    "**(6.** Adding new columns:\n",
    "- manufacturerCountry (str)\n",
    "- americanOrForeign (boolean)"
   ]
  },
  {
   "cell_type": "markdown",
   "id": "e44973be",
   "metadata": {},
   "source": [
    "# Load relevant packages"
   ]
  },
  {
   "cell_type": "code",
   "execution_count": 54,
   "id": "774a9952",
   "metadata": {},
   "outputs": [],
   "source": [
    "import pandas as pd\n",
    "import numpy as np"
   ]
  },
  {
   "cell_type": "markdown",
   "id": "5d0b66e7",
   "metadata": {},
   "source": [
    "# Read .csv file"
   ]
  },
  {
   "cell_type": "code",
   "execution_count": 55,
   "id": "10356e4e",
   "metadata": {},
   "outputs": [],
   "source": [
    "df = pd.read_csv('data/in/Electric_Vehicle_Title_and_Registration_Activity.csv')"
   ]
  },
  {
   "cell_type": "markdown",
   "id": "5d676545",
   "metadata": {},
   "source": [
    "# 1) Investigate file \n",
    "Looking at certain columns to get an understanding of the dataset"
   ]
  },
  {
   "cell_type": "markdown",
   "id": "e663b215",
   "metadata": {},
   "source": [
    "### 'Transaction Type' column\n",
    "\n",
    "We found that the dataset contains both \"[...] (transactions recording changes of ownership) [...] and (transactions authorizing vehicles to be used on Washington public roads).\"(Electric Vehicle Title and Registration Activity, 2022)\n",
    "\n",
    "This is seen in the 'Transaction Type' column that contains the different values that can be seen in the next code cell.\n",
    "\n",
    "By looking into the data we find that the transactions data is represented by the 'Title' data values, and the registration data is represented as the 'Registration' data values.\n",
    "\n",
    "In the following investigation of the dataset different Transaction Type values will be used, to give the best explanation of the dataset."
   ]
  },
  {
   "cell_type": "code",
   "execution_count": 56,
   "id": "0cad7b88",
   "metadata": {},
   "outputs": [
    {
     "data": {
      "text/plain": [
       "array(['Original Registration', 'Original Title', 'Registration Renewal',\n",
       "       'Transfer Title', 'Registration at time of Transfer'], dtype=object)"
      ]
     },
     "execution_count": 56,
     "metadata": {},
     "output_type": "execute_result"
    }
   ],
   "source": [
    "df['Transaction Type'].unique()"
   ]
  },
  {
   "cell_type": "code",
   "execution_count": 57,
   "id": "0c4e2e1e",
   "metadata": {},
   "outputs": [
    {
     "name": "stdout",
     "output_type": "stream",
     "text": [
      "There is 32 different columns in the dataset.\n"
     ]
    }
   ],
   "source": [
    "print(f'There is {len(df.columns)} different columns in the dataset.')"
   ]
  },
  {
   "cell_type": "code",
   "execution_count": 58,
   "id": "1ae05abc",
   "metadata": {},
   "outputs": [
    {
     "data": {
      "text/plain": [
       "Index(['Clean Alternative Fuel Vehicle Type', 'VIN (1-10)', 'Model Year',\n",
       "       'Make', 'Model', 'New or Used Vehicle', 'Sale Price',\n",
       "       'DOL Transaction Date', 'Transaction Type', 'Transaction Year',\n",
       "       'Electric Vehicle Fee Paid', 'County', 'City', 'Postal Code',\n",
       "       'Electric Range', 'Base MSRP', '2015 HB 2778 Exemption Eligibility',\n",
       "       'Sale Date', 'Vehicle Primary Use', 'State of Residence',\n",
       "       'DOL Vehicle ID', 'Legislative District',\n",
       "       '2019 HB 2042 Clean Alternative Fuel Vehicle (CAFV) Eligibility',\n",
       "       'Meets 2019 HB 2042 Electric Range Requirement',\n",
       "       'Meets 2019 HB 2042 Sale Date Requirement',\n",
       "       'Meets 2019 HB 2042 Sale Price/Value Requirement', 'Odometer Reading',\n",
       "       'Odometer Code', 'Transportation Electrification Fee Paid',\n",
       "       'Hybrid Vehicle Electrification Fee Paid', '2020 Census Tract',\n",
       "       'Electric Utility'],\n",
       "      dtype='object')"
      ]
     },
     "execution_count": 58,
     "metadata": {},
     "output_type": "execute_result"
    }
   ],
   "source": [
    "df.columns"
   ]
  },
  {
   "cell_type": "code",
   "execution_count": 59,
   "id": "1e1d586f",
   "metadata": {},
   "outputs": [
    {
     "data": {
      "text/html": [
       "<div>\n",
       "<style scoped>\n",
       "    .dataframe tbody tr th:only-of-type {\n",
       "        vertical-align: middle;\n",
       "    }\n",
       "\n",
       "    .dataframe tbody tr th {\n",
       "        vertical-align: top;\n",
       "    }\n",
       "\n",
       "    .dataframe thead th {\n",
       "        text-align: right;\n",
       "    }\n",
       "</style>\n",
       "<table border=\"1\" class=\"dataframe\">\n",
       "  <thead>\n",
       "    <tr style=\"text-align: right;\">\n",
       "      <th></th>\n",
       "      <th>Clean Alternative Fuel Vehicle Type</th>\n",
       "      <th>VIN (1-10)</th>\n",
       "      <th>Model Year</th>\n",
       "      <th>Make</th>\n",
       "      <th>Model</th>\n",
       "      <th>New or Used Vehicle</th>\n",
       "      <th>Sale Price</th>\n",
       "      <th>DOL Transaction Date</th>\n",
       "      <th>Transaction Type</th>\n",
       "      <th>Transaction Year</th>\n",
       "      <th>...</th>\n",
       "      <th>2019 HB 2042 Clean Alternative Fuel Vehicle (CAFV) Eligibility</th>\n",
       "      <th>Meets 2019 HB 2042 Electric Range Requirement</th>\n",
       "      <th>Meets 2019 HB 2042 Sale Date Requirement</th>\n",
       "      <th>Meets 2019 HB 2042 Sale Price/Value Requirement</th>\n",
       "      <th>Odometer Reading</th>\n",
       "      <th>Odometer Code</th>\n",
       "      <th>Transportation Electrification Fee Paid</th>\n",
       "      <th>Hybrid Vehicle Electrification Fee Paid</th>\n",
       "      <th>2020 Census Tract</th>\n",
       "      <th>Electric Utility</th>\n",
       "    </tr>\n",
       "  </thead>\n",
       "  <tbody>\n",
       "    <tr>\n",
       "      <th>0</th>\n",
       "      <td>Battery Electric Vehicle (BEV)</td>\n",
       "      <td>7FCTGAAA8N</td>\n",
       "      <td>2022</td>\n",
       "      <td>RIVIAN</td>\n",
       "      <td>R1T</td>\n",
       "      <td>New</td>\n",
       "      <td>0</td>\n",
       "      <td>August 16 2022</td>\n",
       "      <td>Original Registration</td>\n",
       "      <td>2022</td>\n",
       "      <td>...</td>\n",
       "      <td>ERROR: No battery range; TRANSACTION NOT ELIGI...</td>\n",
       "      <td>False</td>\n",
       "      <td>False</td>\n",
       "      <td>False</td>\n",
       "      <td>0</td>\n",
       "      <td>Odometer reading is not collected at time of r...</td>\n",
       "      <td>No</td>\n",
       "      <td>No</td>\n",
       "      <td>5.303300e+10</td>\n",
       "      <td>CITY OF SEATTLE - (WA)|CITY OF TACOMA - (WA)</td>\n",
       "    </tr>\n",
       "    <tr>\n",
       "      <th>1</th>\n",
       "      <td>Battery Electric Vehicle (BEV)</td>\n",
       "      <td>5YJ3E1EBXN</td>\n",
       "      <td>2022</td>\n",
       "      <td>TESLA</td>\n",
       "      <td>Model 3</td>\n",
       "      <td>New</td>\n",
       "      <td>70440</td>\n",
       "      <td>October 11 2022</td>\n",
       "      <td>Original Title</td>\n",
       "      <td>2022</td>\n",
       "      <td>...</td>\n",
       "      <td>ERROR: No battery range; TRANSACTION NOT ELIGI...</td>\n",
       "      <td>False</td>\n",
       "      <td>True</td>\n",
       "      <td>False</td>\n",
       "      <td>15</td>\n",
       "      <td>Actual Mileage</td>\n",
       "      <td>Not Applicable</td>\n",
       "      <td>Not Applicable</td>\n",
       "      <td>5.303300e+10</td>\n",
       "      <td>CITY OF SEATTLE - (WA)|CITY OF TACOMA - (WA)</td>\n",
       "    </tr>\n",
       "    <tr>\n",
       "      <th>2</th>\n",
       "      <td>Battery Electric Vehicle (BEV)</td>\n",
       "      <td>5YJ3E1EBXN</td>\n",
       "      <td>2022</td>\n",
       "      <td>TESLA</td>\n",
       "      <td>Model 3</td>\n",
       "      <td>New</td>\n",
       "      <td>0</td>\n",
       "      <td>October 11 2022</td>\n",
       "      <td>Original Registration</td>\n",
       "      <td>2022</td>\n",
       "      <td>...</td>\n",
       "      <td>ERROR: No battery range; TRANSACTION NOT ELIGI...</td>\n",
       "      <td>False</td>\n",
       "      <td>False</td>\n",
       "      <td>False</td>\n",
       "      <td>0</td>\n",
       "      <td>Odometer reading is not collected at time of r...</td>\n",
       "      <td>No</td>\n",
       "      <td>No</td>\n",
       "      <td>5.303300e+10</td>\n",
       "      <td>CITY OF SEATTLE - (WA)|CITY OF TACOMA - (WA)</td>\n",
       "    </tr>\n",
       "  </tbody>\n",
       "</table>\n",
       "<p>3 rows × 32 columns</p>\n",
       "</div>"
      ],
      "text/plain": [
       "  Clean Alternative Fuel Vehicle Type  VIN (1-10)  Model Year    Make  \\\n",
       "0      Battery Electric Vehicle (BEV)  7FCTGAAA8N        2022  RIVIAN   \n",
       "1      Battery Electric Vehicle (BEV)  5YJ3E1EBXN        2022   TESLA   \n",
       "2      Battery Electric Vehicle (BEV)  5YJ3E1EBXN        2022   TESLA   \n",
       "\n",
       "     Model New or Used Vehicle  Sale Price DOL Transaction Date  \\\n",
       "0      R1T                 New           0       August 16 2022   \n",
       "1  Model 3                 New       70440      October 11 2022   \n",
       "2  Model 3                 New           0      October 11 2022   \n",
       "\n",
       "        Transaction Type  Transaction Year  ...  \\\n",
       "0  Original Registration              2022  ...   \n",
       "1         Original Title              2022  ...   \n",
       "2  Original Registration              2022  ...   \n",
       "\n",
       "  2019 HB 2042 Clean Alternative Fuel Vehicle (CAFV) Eligibility  \\\n",
       "0  ERROR: No battery range; TRANSACTION NOT ELIGI...               \n",
       "1  ERROR: No battery range; TRANSACTION NOT ELIGI...               \n",
       "2  ERROR: No battery range; TRANSACTION NOT ELIGI...               \n",
       "\n",
       "  Meets 2019 HB 2042 Electric Range Requirement  \\\n",
       "0                                         False   \n",
       "1                                         False   \n",
       "2                                         False   \n",
       "\n",
       "  Meets 2019 HB 2042 Sale Date Requirement  \\\n",
       "0                                    False   \n",
       "1                                     True   \n",
       "2                                    False   \n",
       "\n",
       "   Meets 2019 HB 2042 Sale Price/Value Requirement  Odometer Reading  \\\n",
       "0                                            False                 0   \n",
       "1                                            False                15   \n",
       "2                                            False                 0   \n",
       "\n",
       "                                       Odometer Code  \\\n",
       "0  Odometer reading is not collected at time of r...   \n",
       "1                                     Actual Mileage   \n",
       "2  Odometer reading is not collected at time of r...   \n",
       "\n",
       "  Transportation Electrification Fee Paid  \\\n",
       "0                                      No   \n",
       "1                          Not Applicable   \n",
       "2                                      No   \n",
       "\n",
       "  Hybrid Vehicle Electrification Fee Paid 2020 Census Tract  \\\n",
       "0                                      No      5.303300e+10   \n",
       "1                          Not Applicable      5.303300e+10   \n",
       "2                                      No      5.303300e+10   \n",
       "\n",
       "                               Electric Utility  \n",
       "0  CITY OF SEATTLE - (WA)|CITY OF TACOMA - (WA)  \n",
       "1  CITY OF SEATTLE - (WA)|CITY OF TACOMA - (WA)  \n",
       "2  CITY OF SEATTLE - (WA)|CITY OF TACOMA - (WA)  \n",
       "\n",
       "[3 rows x 32 columns]"
      ]
     },
     "execution_count": 59,
     "metadata": {},
     "output_type": "execute_result"
    }
   ],
   "source": [
    "df.head(3)"
   ]
  },
  {
   "cell_type": "markdown",
   "id": "9c0bf589",
   "metadata": {},
   "source": [
    "### 'Clean Alternative Fuel Vehicle Type' column\n",
    "* We find that most of the cars which has been registered within the time period of the dataset can be identified as 'Battery Electric Vehicle (BEV)'"
   ]
  },
  {
   "cell_type": "code",
   "execution_count": 60,
   "id": "f6177e2c",
   "metadata": {},
   "outputs": [
    {
     "data": {
      "text/plain": [
       "Battery Electric Vehicle (BEV)            104805\n",
       "Plug-in Hybrid Electric Vehicle (PHEV)     33375\n",
       "Hydrogen Powered Vehicle                       1\n",
       "Name: Clean Alternative Fuel Vehicle Type, dtype: int64"
      ]
     },
     "execution_count": 60,
     "metadata": {},
     "output_type": "execute_result"
    }
   ],
   "source": [
    "df[df['Transaction Type'] == 'Original Registration']['Clean Alternative Fuel Vehicle Type'].value_counts()"
   ]
  },
  {
   "cell_type": "markdown",
   "id": "bf021b50",
   "metadata": {},
   "source": [
    "### 'Make' column\n",
    "We also find that the dataset contains 37 different car manufactures"
   ]
  },
  {
   "cell_type": "code",
   "execution_count": 61,
   "id": "8844fb85",
   "metadata": {},
   "outputs": [
    {
     "name": "stdout",
     "output_type": "stream",
     "text": [
      "['RIVIAN' 'TESLA' 'CHEVROLET' 'TOYOTA' 'BMW' 'KIA' 'VOLKSWAGEN' 'NISSAN'\n",
      " 'AUDI' 'LUCID MOTORS' 'FORD' 'HONDA' 'MITSUBISHI' 'VOLVO' 'MERCEDES-BENZ'\n",
      " 'CHRYSLER' 'PORSCHE' 'HYUNDAI' 'JEEP' 'CADILLAC' 'MINI' 'FIAT'\n",
      " 'LAND ROVER' 'LINCOLN' 'POLESTAR' 'SMART' 'JAGUAR' 'FISKER' 'LEXUS'\n",
      " 'GENESIS' 'SUBARU' 'BUBBLE BUDDY' 'AZURE DYNAMICS' 'TH!NK' 'BENTLEY'\n",
      " 'DODGE' 'PLYMOUTH'] 37\n"
     ]
    }
   ],
   "source": [
    "print(df['Make'].unique(), df['Make'].nunique())"
   ]
  },
  {
   "cell_type": "markdown",
   "id": "e456b741",
   "metadata": {},
   "source": [
    "### 'DOL Vehicle ID' column\n",
    "We find 139k unique cars, which means that each car in average is represented 4.5 in the time period of the dataset."
   ]
  },
  {
   "cell_type": "code",
   "execution_count": 62,
   "id": "b6736ee5",
   "metadata": {},
   "outputs": [
    {
     "name": "stdout",
     "output_type": "stream",
     "text": [
      "There is a number of 139470 unique cars and a sum of 633874 number of records that relates to either a registration or a transfer.\n"
     ]
    }
   ],
   "source": [
    "print(f'There is a number of {df[\"DOL Vehicle ID\"].nunique()} unique cars and a sum of {len(df)} number of records that relates to either a registration or a transfer.') "
   ]
  },
  {
   "cell_type": "markdown",
   "id": "d8ce6d81",
   "metadata": {},
   "source": [
    "### 'Base MSRP' column\n",
    "94% of the records does not have data on 'Base MSRP' - retail price.\n",
    "This should be seen in the context that all different 'Transactions type' values have a non-zero value in'Base MSRP', therefore this column will not be used while it does not contain a lot of data."
   ]
  },
  {
   "cell_type": "code",
   "execution_count": 63,
   "id": "d3419bfa",
   "metadata": {},
   "outputs": [
    {
     "data": {
      "text/plain": [
       "0.9433594058125117"
      ]
     },
     "execution_count": 63,
     "metadata": {},
     "output_type": "execute_result"
    }
   ],
   "source": [
    "len(df[df['Base MSRP'] == 0]) / len(df)"
   ]
  },
  {
   "cell_type": "code",
   "execution_count": 64,
   "id": "5230e277",
   "metadata": {},
   "outputs": [
    {
     "data": {
      "text/plain": [
       "Registration Renewal                20744\n",
       "Original Registration                5268\n",
       "Original Title                       5250\n",
       "Transfer Title                       2392\n",
       "Registration at time of Transfer     2249\n",
       "Name: Transaction Type, dtype: int64"
      ]
     },
     "execution_count": 64,
     "metadata": {},
     "output_type": "execute_result"
    }
   ],
   "source": [
    "df[df['Base MSRP'] != 0]['Transaction Type'].value_counts()"
   ]
  },
  {
   "cell_type": "markdown",
   "id": "b7b2b71b",
   "metadata": {},
   "source": [
    "### 'Sale Price' column\n",
    "The tendency with zero-values from above is not seen in the 'Sale Price' column. Here we find that 78% of the records which have the Transaction Type 'Original Title' or 'Transfer Title' has a 'Sale Price'."
   ]
  },
  {
   "cell_type": "code",
   "execution_count": 65,
   "id": "d60d75e7",
   "metadata": {},
   "outputs": [
    {
     "data": {
      "text/plain": [
       "Original Title    107651\n",
       "Transfer Title     25435\n",
       "Name: Transaction Type, dtype: int64"
      ]
     },
     "execution_count": 65,
     "metadata": {},
     "output_type": "execute_result"
    }
   ],
   "source": [
    "records_with_sales_price = df[df['Sale Price'] != 0]['Transaction Type'].copy().value_counts()\n",
    "records_with_sales_price"
   ]
  },
  {
   "cell_type": "code",
   "execution_count": 66,
   "id": "c0ce200c",
   "metadata": {},
   "outputs": [
    {
     "data": {
      "text/plain": [
       "0.7856270033825066"
      ]
     },
     "execution_count": 66,
     "metadata": {},
     "output_type": "execute_result"
    }
   ],
   "source": [
    "(records_with_sales_price[0] + records_with_sales_price[1]) / len(df[(df['Transaction Type'] == 'Original Title') | (df['Transaction Type'] == 'Transfer Title')])"
   ]
  },
  {
   "cell_type": "markdown",
   "id": "5efacea2",
   "metadata": {},
   "source": [
    "### 'Odometer Reading' and 'Odometer Code' column\n",
    "The 'Odometer reading' column has a odd looking summmary statistics, while the quantiles looks off. \n",
    "Therefore we look into it by taking a value_counts() where we find that over 400 k records has a odometer reading of 0, and these records should therefore be sorted out if it is seized to use them. When we look into the Odometer code column, we find that we can use the 'Odometer Code' = 'Acutal Mileage' since only 5/206974 has a zero 'Odometer Reading'."
   ]
  },
  {
   "cell_type": "code",
   "execution_count": 67,
   "id": "06e887ef",
   "metadata": {},
   "outputs": [
    {
     "data": {
      "text/plain": [
       "count    633874.000000\n",
       "mean       2989.021687\n",
       "std       11747.381800\n",
       "min           0.000000\n",
       "25%           0.000000\n",
       "50%           0.000000\n",
       "75%          15.000000\n",
       "max      962619.000000\n",
       "Name: Odometer Reading, dtype: float64"
      ]
     },
     "execution_count": 67,
     "metadata": {},
     "output_type": "execute_result"
    }
   ],
   "source": [
    "df['Odometer Reading'].describe()"
   ]
  },
  {
   "cell_type": "code",
   "execution_count": 68,
   "id": "434052d9",
   "metadata": {},
   "outputs": [
    {
     "data": {
      "text/plain": [
       "0         426702\n",
       "15         32985\n",
       "50         25144\n",
       "10          7782\n",
       "5           4384\n",
       "           ...  \n",
       "39132          1\n",
       "96480          1\n",
       "86245          1\n",
       "114935         1\n",
       "2047           1\n",
       "Name: Odometer Reading, Length: 37706, dtype: int64"
      ]
     },
     "execution_count": 68,
     "metadata": {},
     "output_type": "execute_result"
    }
   ],
   "source": [
    "df['Odometer Reading'].value_counts()"
   ]
  },
  {
   "cell_type": "code",
   "execution_count": 69,
   "id": "6b58d644",
   "metadata": {},
   "outputs": [
    {
     "data": {
      "text/plain": [
       "Odometer reading is not collected at time of renewal       402246\n",
       "Actual Mileage                                             206979\n",
       "No Odometer Code on File                                    24228\n",
       "Exempt - Over 10 years old, non-powered, or by use type       236\n",
       "Not actual mileage                                            159\n",
       "Exceeds mechanical limits                                      26\n",
       "Name: Odometer Code, dtype: int64"
      ]
     },
     "execution_count": 69,
     "metadata": {},
     "output_type": "execute_result"
    }
   ],
   "source": [
    "df['Odometer Code'].value_counts()"
   ]
  },
  {
   "cell_type": "code",
   "execution_count": 70,
   "id": "3a432606",
   "metadata": {},
   "outputs": [],
   "source": [
    "number_of_actual_milage_observations = len(df[df['Odometer Code'] == 'Actual Mileage'])\n",
    "zero_actual_milage_observations = len(df[(df['Odometer Code'] == 'Actual Mileage') & (df['Odometer Reading'] == 0)])"
   ]
  },
  {
   "cell_type": "code",
   "execution_count": 71,
   "id": "46899e30",
   "metadata": {},
   "outputs": [
    {
     "name": "stdout",
     "output_type": "stream",
     "text": [
      "There is only 5/206979 cars which has the 'Actual Mileage' value that also has a zero value in the Odometer Reading\n"
     ]
    }
   ],
   "source": [
    "print(f\"There is only {zero_actual_milage_observations}/{number_of_actual_milage_observations} cars which has the 'Actual Mileage' value that also has a zero value in the Odometer Reading\")"
   ]
  },
  {
   "cell_type": "code",
   "execution_count": 72,
   "id": "265f9313",
   "metadata": {},
   "outputs": [
    {
     "data": {
      "text/plain": [
       "Original Title                      136103\n",
       "Transfer Title                       32780\n",
       "Original Registration                24431\n",
       "Registration Renewal                 10661\n",
       "Registration at time of Transfer      3197\n",
       "Name: Transaction Type, dtype: int64"
      ]
     },
     "execution_count": 72,
     "metadata": {},
     "output_type": "execute_result"
    }
   ],
   "source": [
    "# All Transactions Type values can have a non-zero Odometer reading.\n",
    "df[df['Odometer Reading'] != 0.0]['Transaction Type'].value_counts()"
   ]
  },
  {
   "cell_type": "markdown",
   "id": "e9b552be",
   "metadata": {},
   "source": [
    "### 'Vehicle Primary Use' column\n",
    "We find that almost all of the records has the 'Passenger' value."
   ]
  },
  {
   "cell_type": "code",
   "execution_count": 73,
   "id": "171e7bd2",
   "metadata": {},
   "outputs": [
    {
     "data": {
      "text/plain": [
       "Passenger                             627132\n",
       "Exempt (State/County/Local/Tribal)      3018\n",
       "Truck                                   1761\n",
       "Commercial                              1717\n",
       "For Hire                                 173\n",
       "Medium-Speed Electric Vehicle             35\n",
       "Neighborhood Electric Vehicle             12\n",
       "Cab                                        9\n",
       "Farm Use                                   5\n",
       "Private School                             5\n",
       "Taxi Cab                                   3\n",
       "Medium-Speed Electric Truck                2\n",
       "Farm Exempt                                2\n",
       "Name: Vehicle Primary Use, dtype: int64"
      ]
     },
     "execution_count": 73,
     "metadata": {},
     "output_type": "execute_result"
    }
   ],
   "source": [
    "df['Vehicle Primary Use'].value_counts()"
   ]
  },
  {
   "cell_type": "code",
   "execution_count": 74,
   "id": "8de93ac0",
   "metadata": {},
   "outputs": [
    {
     "data": {
      "text/plain": [
       "0.9921419714328085"
      ]
     },
     "execution_count": 74,
     "metadata": {},
     "output_type": "execute_result"
    }
   ],
   "source": [
    "len(df.query(\"`Vehicle Primary Use` in ('Passenger', 'Truck')\"))/len(df)"
   ]
  },
  {
   "cell_type": "markdown",
   "id": "e32925e9",
   "metadata": {},
   "source": [
    "Passengers and trucks account for 99% of the dataset"
   ]
  },
  {
   "cell_type": "markdown",
   "id": "1be1fd44",
   "metadata": {},
   "source": [
    "### 'Electric Range' column\n",
    "By looking at the 'Electric Range' column we find that almost 100 k records does not have an eletric range. One of the  reason for this evidently seems to relate to the 'Model Year' column. Here it is found that some of the new models from 2020 > does not have Electric Range. This is important to note when dealing with the data later in Tableau."
   ]
  },
  {
   "cell_type": "code",
   "execution_count": 75,
   "id": "ce067b7b",
   "metadata": {},
   "outputs": [
    {
     "data": {
      "text/plain": [
       "99595"
      ]
     },
     "execution_count": 75,
     "metadata": {},
     "output_type": "execute_result"
    }
   ],
   "source": [
    "len(df[df['Electric Range'] == 0])"
   ]
  },
  {
   "cell_type": "code",
   "execution_count": 76,
   "id": "a0bc9937",
   "metadata": {
    "scrolled": true
   },
   "outputs": [
    {
     "data": {
      "text/plain": [
       "Registration Renewal                279766\n",
       "Original Registration                97197\n",
       "Original Title                       95761\n",
       "Transfer Title                       31723\n",
       "Registration at time of Transfer     29832\n",
       "Name: Transaction Type, dtype: int64"
      ]
     },
     "execution_count": 76,
     "metadata": {},
     "output_type": "execute_result"
    }
   ],
   "source": [
    "df[df['Electric Range'] != 0]['Transaction Type'].value_counts()"
   ]
  },
  {
   "cell_type": "code",
   "execution_count": 77,
   "id": "077f1c2f",
   "metadata": {},
   "outputs": [
    {
     "data": {
      "text/plain": [
       "2022    49137\n",
       "2021    46598\n",
       "2023     3635\n",
       "2020      212\n",
       "2019       10\n",
       "2015        2\n",
       "2016        1\n",
       "Name: Model Year, dtype: int64"
      ]
     },
     "execution_count": 77,
     "metadata": {},
     "output_type": "execute_result"
    }
   ],
   "source": [
    "df[df['Electric Range'] == 0]['Model Year'].value_counts()"
   ]
  },
  {
   "cell_type": "markdown",
   "id": "547aae7d",
   "metadata": {},
   "source": [
    "### Check for nan values\n",
    "There is a check for nan values."
   ]
  },
  {
   "cell_type": "code",
   "execution_count": 78,
   "id": "3d4ccf80",
   "metadata": {},
   "outputs": [],
   "source": [
    "assert(len(df[df['Sale Price'].isna()]) == 0)\n",
    "assert(len(df[df['Electric Range'].isna()]) == 0)\n",
    "assert(len(df[df['Odometer Reading'].isna()]) == 0)"
   ]
  },
  {
   "cell_type": "markdown",
   "id": "5904a40f",
   "metadata": {},
   "source": [
    "### 'Sale Date' column\n",
    "Here we find a lot of nan values, and we will therefore further investigate the date columns in the next section."
   ]
  },
  {
   "cell_type": "code",
   "execution_count": 79,
   "id": "33a4a0fd",
   "metadata": {},
   "outputs": [
    {
     "data": {
      "text/plain": [
       "442801"
      ]
     },
     "execution_count": 79,
     "metadata": {},
     "output_type": "execute_result"
    }
   ],
   "source": [
    "len(df[df['Sale Date'].isna()])"
   ]
  },
  {
   "cell_type": "markdown",
   "id": "dfa98104",
   "metadata": {},
   "source": [
    "# 2) Clean data \n",
    "\n"
   ]
  },
  {
   "cell_type": "markdown",
   "id": "640283fa",
   "metadata": {},
   "source": [
    "#### (2.1 Filtering data"
   ]
  },
  {
   "cell_type": "markdown",
   "id": "bdd49d7c",
   "metadata": {},
   "source": [
    "The Electric_Vehicle_Population_Size_History_By_County.csv dataset only contains passenger and truck types, so we are only going to use these. Also limiting to WA and observations regarding a transaction"
   ]
  },
  {
   "cell_type": "code",
   "execution_count": 81,
   "id": "2dc90ae7",
   "metadata": {},
   "outputs": [],
   "source": [
    "df = df.query(\"`Vehicle Primary Use` in ('Passenger', 'Truck') & `State of Residence` == 'WA' & `Transaction Type` in ('Original Title', 'Transfer Title') & `Sale Price` != 0\")"
   ]
  },
  {
   "cell_type": "markdown",
   "id": "3c80bc12",
   "metadata": {},
   "source": [
    "#### (2.2 Dropping columns"
   ]
  },
  {
   "cell_type": "code",
   "execution_count": 83,
   "id": "ffc6d7e2",
   "metadata": {},
   "outputs": [],
   "source": [
    "drop = ['Clean Alternative Fuel Vehicle Type', 'Odometer Reading', 'Odometer Code', 'State of Residence',\n",
    "    'Vehicle Primary Use', 'VIN (1-10)', 'Transaction Year', 'Electric Range', '2015 HB 2778 Exemption Eligibility', \n",
    "    '2019 HB 2042 Clean Alternative Fuel Vehicle (CAFV) Eligibility',\n",
    "    'Meets 2019 HB 2042 Electric Range Requirement','Meets 2019 HB 2042 Sale Price/Value Requirement',\n",
    "    'Meets 2019 HB 2042 Sale Date Requirement', 'Transportation Electrification Fee Paid', \n",
    "    'Hybrid Vehicle Electrification Fee Paid', '2020 Census Tract', 'Base MSRP',\n",
    "    'Electric Utility', 'Legislative District', 'Electric Vehicle Fee Paid']\n",
    "\n",
    "df = df.drop(drop, axis='columns')"
   ]
  },
  {
   "cell_type": "code",
   "execution_count": 84,
   "id": "ee6654cd",
   "metadata": {},
   "outputs": [
    {
     "data": {
      "text/plain": [
       "Index(['Model Year', 'Make', 'Model', 'New or Used Vehicle', 'Sale Price',\n",
       "       'DOL Transaction Date', 'Transaction Type', 'County', 'City',\n",
       "       'Postal Code', 'Sale Date', 'DOL Vehicle ID'],\n",
       "      dtype='object')"
      ]
     },
     "execution_count": 84,
     "metadata": {},
     "output_type": "execute_result"
    }
   ],
   "source": [
    "df.columns"
   ]
  },
  {
   "cell_type": "markdown",
   "id": "afb9f4f5",
   "metadata": {},
   "source": [
    "#### (2.3 Altering string columns\n",
    "'City' column to proper case, 'Make' column to upper case"
   ]
  },
  {
   "cell_type": "code",
   "execution_count": 86,
   "id": "6e5bd303",
   "metadata": {},
   "outputs": [],
   "source": [
    "df['City'] = df['City'].str.title()"
   ]
  },
  {
   "cell_type": "code",
   "execution_count": 87,
   "id": "b2606e78",
   "metadata": {},
   "outputs": [],
   "source": [
    "df['Make'] = df['Make'].str.upper()"
   ]
  },
  {
   "cell_type": "markdown",
   "id": "502b0b43",
   "metadata": {},
   "source": [
    "#### (2.4 Changing dtypes"
   ]
  },
  {
   "cell_type": "code",
   "execution_count": 88,
   "id": "9c213d9e",
   "metadata": {},
   "outputs": [
    {
     "data": {
      "text/plain": [
       "Model Year                int64\n",
       "Make                     object\n",
       "Model                    object\n",
       "New or Used Vehicle      object\n",
       "Sale Price                int64\n",
       "DOL Transaction Date     object\n",
       "Transaction Type         object\n",
       "County                   object\n",
       "City                     object\n",
       "Postal Code             float64\n",
       "Sale Date                object\n",
       "DOL Vehicle ID            int64\n",
       "dtype: object"
      ]
     },
     "execution_count": 88,
     "metadata": {},
     "output_type": "execute_result"
    }
   ],
   "source": [
    "df.dtypes"
   ]
  },
  {
   "cell_type": "markdown",
   "id": "4233f6f5",
   "metadata": {},
   "source": [
    "#### Change dtype format for date columns\n",
    "We see that column with index 5 and 10 contains 'Date' in its name, and we will therefore look at these dates.\n",
    "\n",
    "\n",
    "The reason we want to change the dtype of the columns is because the current dtypes are object, and it will therefore be smarter to change it to a date format, so we can be sure that data is consistent when it has to be plotted in Tableau."
   ]
  },
  {
   "cell_type": "code",
   "execution_count": 89,
   "id": "f84553f8",
   "metadata": {},
   "outputs": [
    {
     "data": {
      "text/plain": [
       "5     True\n",
       "10    True\n",
       "dtype: bool"
      ]
     },
     "execution_count": 89,
     "metadata": {},
     "output_type": "execute_result"
    }
   ],
   "source": [
    "pd.Series(df.columns).str.contains('Date')[pd.Series(df.columns).str.contains('Date')]"
   ]
  },
  {
   "cell_type": "code",
   "execution_count": 90,
   "id": "afcd690f",
   "metadata": {},
   "outputs": [
    {
     "name": "stdout",
     "output_type": "stream",
     "text": [
      "These are the columns we will be looking at:\n",
      "DOL Transaction Date and Sale Date\n"
     ]
    }
   ],
   "source": [
    "print('These are the columns we will be looking at:')\n",
    "print(f'{df[df.columns[5]].name} and {df[df.columns[10]].name}')"
   ]
  },
  {
   "cell_type": "markdown",
   "id": "d36a6f2a",
   "metadata": {},
   "source": [
    "### DOL Transaction Date - column"
   ]
  },
  {
   "cell_type": "code",
   "execution_count": 91,
   "id": "5a40c392",
   "metadata": {},
   "outputs": [
    {
     "name": "stdout",
     "output_type": "stream",
     "text": [
      "Period: April 01 2017 - September 30 2022\n"
     ]
    }
   ],
   "source": [
    "print(f\"Period: {df['DOL Transaction Date'].min()} - {df['DOL Transaction Date'].max()}\")"
   ]
  },
  {
   "cell_type": "code",
   "execution_count": 92,
   "id": "cbbf4988",
   "metadata": {},
   "outputs": [
    {
     "data": {
      "text/plain": [
       "1      October 11 2022\n",
       "3      October 15 2019\n",
       "7     February 18 2022\n",
       "11     October 18 2022\n",
       "13    February 18 2021\n",
       "Name: DOL Transaction Date, dtype: object"
      ]
     },
     "execution_count": 92,
     "metadata": {},
     "output_type": "execute_result"
    }
   ],
   "source": [
    "df['DOL Transaction Date'].head(5)"
   ]
  },
  {
   "cell_type": "code",
   "execution_count": 93,
   "id": "fd80e95b",
   "metadata": {},
   "outputs": [
    {
     "data": {
      "text/plain": [
       "October 04 2022     773\n",
       "April 14 2022       659\n",
       "October 28 2022     638\n",
       "July 12 2022        634\n",
       "February 18 2022    633\n",
       "                   ... \n",
       "July 20 2019          1\n",
       "February 24 2018      1\n",
       "December 02 2017      1\n",
       "May 16 2020           1\n",
       "October 28 2017       1\n",
       "Name: DOL Transaction Date, Length: 1787, dtype: int64"
      ]
     },
     "execution_count": 93,
     "metadata": {},
     "output_type": "execute_result"
    }
   ],
   "source": [
    "df['DOL Transaction Date'].value_counts()"
   ]
  },
  {
   "cell_type": "code",
   "execution_count": 94,
   "id": "206789d6",
   "metadata": {},
   "outputs": [],
   "source": [
    "# check for nan values:\n",
    "assert(len(df[df['DOL Transaction Date'].isna()]) == 0)"
   ]
  },
  {
   "cell_type": "markdown",
   "id": "49adc2ce",
   "metadata": {},
   "source": [
    "### Change of dtype - DOL Transaction Date\n",
    "We see that the column has no nan values, and we therefore try to change the dtypes with a pandas function. \n",
    "Here we find by looking at the new 'DOL Transaction Date' column (next code cell) that the dtype conversion will work. We therefore overwrite the existing dtype with the datetime64[ns] dtype\n",
    "\n",
    "source used: (Pandas.to_datetime — Pandas 1.5.2 Documentation, n.d.)\n",
    "The source is used to change the dtype of the column below."
   ]
  },
  {
   "cell_type": "code",
   "execution_count": 95,
   "id": "6ef8ac01",
   "metadata": {},
   "outputs": [
    {
     "data": {
      "text/plain": [
       "1    2022-10-11\n",
       "3    2019-10-15\n",
       "7    2022-02-18\n",
       "11   2022-10-18\n",
       "13   2021-02-18\n",
       "16   2017-01-18\n",
       "18   2022-01-11\n",
       "20   2020-12-23\n",
       "23   2021-06-15\n",
       "28   2021-10-25\n",
       "Name: DOL Transaction Date, dtype: datetime64[ns]"
      ]
     },
     "execution_count": 95,
     "metadata": {},
     "output_type": "execute_result"
    }
   ],
   "source": [
    "pd.to_datetime(df['DOL Transaction Date']).head(10)"
   ]
  },
  {
   "cell_type": "code",
   "execution_count": 96,
   "id": "e46a6ed2",
   "metadata": {},
   "outputs": [
    {
     "data": {
      "text/plain": [
       "1      October 11 2022\n",
       "3      October 15 2019\n",
       "7     February 18 2022\n",
       "11     October 18 2022\n",
       "13    February 18 2021\n",
       "16     January 18 2017\n",
       "18     January 11 2022\n",
       "20    December 23 2020\n",
       "23        June 15 2021\n",
       "28     October 25 2021\n",
       "Name: DOL Transaction Date, dtype: object"
      ]
     },
     "execution_count": 96,
     "metadata": {},
     "output_type": "execute_result"
    }
   ],
   "source": [
    "# Checking that the code result above have the same result as the code result in the next cell.\n",
    "df['DOL Transaction Date'].head(10)"
   ]
  },
  {
   "cell_type": "code",
   "execution_count": 97,
   "id": "d7e47f8a",
   "metadata": {},
   "outputs": [],
   "source": [
    "# changing dtype\n",
    "df['DOL Transaction Date'] = pd.to_datetime(df['DOL Transaction Date'])"
   ]
  },
  {
   "cell_type": "code",
   "execution_count": 98,
   "id": "0f160e7f",
   "metadata": {},
   "outputs": [
    {
     "data": {
      "text/plain": [
       "2022    35217\n",
       "2021    29591\n",
       "2019    18866\n",
       "2020    17908\n",
       "2018    17356\n",
       "2017    11706\n",
       "2016      517\n",
       "Name: DOL Transaction Date, dtype: int64"
      ]
     },
     "execution_count": 98,
     "metadata": {},
     "output_type": "execute_result"
    }
   ],
   "source": [
    "pd.DatetimeIndex(df['DOL Transaction Date']).year.value_counts()"
   ]
  },
  {
   "cell_type": "markdown",
   "id": "a0930ac8",
   "metadata": {},
   "source": [
    "### Change of dtype - 'Sale Date'\n",
    "With the Sale Date column we find that it contains nan values. The to_datetime() function however takes care of the transformation, and no further cleaning should therefore be considered.\n",
    "\n",
    "Because the column contains nan values it is especially important to change the dtype of this column. The reason is that some of the column values will be a float type (nan) and others will be str (fx \"September 09 2022\"). Therefore we want to change the dtype to get more concise data."
   ]
  },
  {
   "cell_type": "code",
   "execution_count": 99,
   "id": "d29edf8d",
   "metadata": {},
   "outputs": [
    {
     "data": {
      "text/plain": [
       "1     September 09 2022\n",
       "3     September 21 2019\n",
       "7       January 26 2022\n",
       "11    September 16 2022\n",
       "13      January 30 2021\n",
       "Name: Sale Date, dtype: object"
      ]
     },
     "execution_count": 99,
     "metadata": {},
     "output_type": "execute_result"
    }
   ],
   "source": [
    "df['Sale Date'].head(5)"
   ]
  },
  {
   "cell_type": "code",
   "execution_count": 100,
   "id": "0b255352",
   "metadata": {},
   "outputs": [
    {
     "data": {
      "text/plain": [
       "0"
      ]
     },
     "execution_count": 100,
     "metadata": {},
     "output_type": "execute_result"
    }
   ],
   "source": [
    "# check for nan values:\n",
    "len(df[df['Sale Date'].isna()])"
   ]
  },
  {
   "cell_type": "code",
   "execution_count": 101,
   "id": "6eb1dd94",
   "metadata": {},
   "outputs": [
    {
     "data": {
      "text/plain": [
       "Original Title    105850\n",
       "Transfer Title     25311\n",
       "Name: Transaction Type, dtype: int64"
      ]
     },
     "execution_count": 101,
     "metadata": {},
     "output_type": "execute_result"
    }
   ],
   "source": [
    "df[df['Sale Date'].notna()]['Transaction Type'].value_counts()"
   ]
  },
  {
   "cell_type": "code",
   "execution_count": 102,
   "id": "845723f4",
   "metadata": {},
   "outputs": [
    {
     "data": {
      "text/plain": [
       "Series([], Name: Transaction Type, dtype: int64)"
      ]
     },
     "execution_count": 102,
     "metadata": {},
     "output_type": "execute_result"
    }
   ],
   "source": [
    "df[df['Sale Date'].isna()]['Transaction Type'].value_counts()"
   ]
  },
  {
   "cell_type": "markdown",
   "id": "3f375811",
   "metadata": {},
   "source": [
    "### Illustration of 'Sale Data' - after conversion to datetime"
   ]
  },
  {
   "cell_type": "code",
   "execution_count": 103,
   "id": "6a25c37a",
   "metadata": {},
   "outputs": [
    {
     "data": {
      "text/plain": [
       "1    2022-09-09\n",
       "3    2019-09-21\n",
       "7    2022-01-26\n",
       "11   2022-09-16\n",
       "13   2021-01-30\n",
       "16   2016-12-18\n",
       "18   2021-12-11\n",
       "20   2020-12-04\n",
       "23   2021-05-23\n",
       "28   2021-09-25\n",
       "Name: Sale Date, dtype: datetime64[ns]"
      ]
     },
     "execution_count": 103,
     "metadata": {},
     "output_type": "execute_result"
    }
   ],
   "source": [
    "df['Sale Date'] = pd.to_datetime(df['Sale Date'])\n",
    "pd.to_datetime(df['Sale Date']).head(10)"
   ]
  },
  {
   "cell_type": "markdown",
   "id": "83e31c7c",
   "metadata": {},
   "source": [
    "#### (2.5 Sorting data\n",
    "Sorting by Vehicle DOL ID and Transaction date"
   ]
  },
  {
   "cell_type": "code",
   "execution_count": 104,
   "id": "f8bc32b5",
   "metadata": {},
   "outputs": [],
   "source": [
    "df = df.sort_values(['DOL Vehicle ID', 'DOL Transaction Date'], ascending=[True, True])"
   ]
  },
  {
   "cell_type": "markdown",
   "id": "f9c24fdf",
   "metadata": {},
   "source": [
    "#### Missing values in whole dataset"
   ]
  },
  {
   "cell_type": "code",
   "execution_count": 105,
   "id": "05271db8",
   "metadata": {},
   "outputs": [
    {
     "data": {
      "text/plain": [
       "Model Year               0\n",
       "Make                     0\n",
       "Model                   20\n",
       "New or Used Vehicle      0\n",
       "Sale Price               0\n",
       "DOL Transaction Date     0\n",
       "Transaction Type         0\n",
       "County                   0\n",
       "City                     2\n",
       "Postal Code              2\n",
       "Sale Date                0\n",
       "DOL Vehicle ID           0\n",
       "dtype: int64"
      ]
     },
     "execution_count": 105,
     "metadata": {},
     "output_type": "execute_result"
    }
   ],
   "source": [
    "df.isna().sum()"
   ]
  },
  {
   "cell_type": "markdown",
   "id": "74b05696",
   "metadata": {},
   "source": [
    "#### (2.6 Adding new columns\n",
    "- Country Manufacturer data\n",
    "- americanOrForeign"
   ]
  },
  {
   "cell_type": "code",
   "execution_count": 109,
   "id": "d2184494",
   "metadata": {},
   "outputs": [],
   "source": [
    "manufacturerCountry = pd.read_excel('data/in/manufacturerCountry.xlsx')\n",
    "manufacturerCountry = manufacturerCountry.drop_duplicates()\n",
    "manufacturerCountry['Make'] = manufacturerCountry['Make'].str.upper()"
   ]
  },
  {
   "cell_type": "code",
   "execution_count": 110,
   "id": "f03d17cd",
   "metadata": {},
   "outputs": [],
   "source": [
    "df2 = pd.merge(df,\n",
    "                manufacturerCountry,\n",
    "                on='Make', how='left')"
   ]
  },
  {
   "cell_type": "code",
   "execution_count": 111,
   "id": "db143e82",
   "metadata": {},
   "outputs": [
    {
     "data": {
      "text/plain": [
       "LUCID MOTORS      66\n",
       "FISKER            18\n",
       "GENESIS           15\n",
       "AZURE DYNAMICS     3\n",
       "TH!NK              3\n",
       "Name: Make, dtype: int64"
      ]
     },
     "execution_count": 111,
     "metadata": {},
     "output_type": "execute_result"
    }
   ],
   "source": [
    "# checking for nan values after join\n",
    "df2[df2['manufacturerCountry'].isna()]['Make'].value_counts()"
   ]
  },
  {
   "cell_type": "code",
   "execution_count": 112,
   "id": "6a97d323",
   "metadata": {},
   "outputs": [],
   "source": [
    "# adding missing countries\n",
    "df2.loc[df2['Make']==\"LUCID MOTORS\", \"manufacturerCountry\"] = 'United States'\n",
    "df2.loc[df2['Make']==\"FISKER\", \"manufacturerCountry\"] = 'United States'\n",
    "df2.loc[df2['Make']==\"GENESIS\", \"manufacturerCountry\"] = 'South Korea'\n",
    "df2.loc[df2['Make']==\"AZURE DYNAMICS\", \"manufacturerCountry\"] = 'United States'\n",
    "df2.loc[df2['Make']==\"TH!NK\", \"manufacturerCountry\"] = 'Norway'"
   ]
  },
  {
   "cell_type": "code",
   "execution_count": 113,
   "id": "0150c702",
   "metadata": {},
   "outputs": [
    {
     "data": {
      "text/plain": [
       "American    79798\n",
       "Foreign     51363\n",
       "Name: americanOrForeign, dtype: int64"
      ]
     },
     "execution_count": 113,
     "metadata": {},
     "output_type": "execute_result"
    }
   ],
   "source": [
    "df2['americanOrForeign'] = np.where(df2['manufacturerCountry'] == 'United States', 'American', 'Foreign')\n",
    "df2['americanOrForeign'].value_counts()"
   ]
  },
  {
   "cell_type": "code",
   "execution_count": 114,
   "id": "ba4e9452",
   "metadata": {},
   "outputs": [
    {
     "data": {
      "text/html": [
       "<div>\n",
       "<style scoped>\n",
       "    .dataframe tbody tr th:only-of-type {\n",
       "        vertical-align: middle;\n",
       "    }\n",
       "\n",
       "    .dataframe tbody tr th {\n",
       "        vertical-align: top;\n",
       "    }\n",
       "\n",
       "    .dataframe thead th {\n",
       "        text-align: right;\n",
       "    }\n",
       "</style>\n",
       "<table border=\"1\" class=\"dataframe\">\n",
       "  <thead>\n",
       "    <tr style=\"text-align: right;\">\n",
       "      <th></th>\n",
       "      <th>Model Year</th>\n",
       "      <th>Make</th>\n",
       "      <th>Model</th>\n",
       "      <th>New or Used Vehicle</th>\n",
       "      <th>Sale Price</th>\n",
       "      <th>DOL Transaction Date</th>\n",
       "      <th>Transaction Type</th>\n",
       "      <th>County</th>\n",
       "      <th>City</th>\n",
       "      <th>Postal Code</th>\n",
       "      <th>Sale Date</th>\n",
       "      <th>DOL Vehicle ID</th>\n",
       "      <th>manufacturerCountry</th>\n",
       "      <th>americanOrForeign</th>\n",
       "    </tr>\n",
       "  </thead>\n",
       "  <tbody>\n",
       "    <tr>\n",
       "      <th>0</th>\n",
       "      <td>2018</td>\n",
       "      <td>CHEVROLET</td>\n",
       "      <td>Volt</td>\n",
       "      <td>New</td>\n",
       "      <td>36456</td>\n",
       "      <td>2018-06-08</td>\n",
       "      <td>Original Title</td>\n",
       "      <td>Jefferson</td>\n",
       "      <td>Port Townsend</td>\n",
       "      <td>98368.0</td>\n",
       "      <td>2018-05-25</td>\n",
       "      <td>4469</td>\n",
       "      <td>United States</td>\n",
       "      <td>American</td>\n",
       "    </tr>\n",
       "    <tr>\n",
       "      <th>1</th>\n",
       "      <td>2017</td>\n",
       "      <td>BMW</td>\n",
       "      <td>i3</td>\n",
       "      <td>New</td>\n",
       "      <td>44941</td>\n",
       "      <td>2017-05-25</td>\n",
       "      <td>Original Title</td>\n",
       "      <td>Clark</td>\n",
       "      <td>Vancouver</td>\n",
       "      <td>98684.0</td>\n",
       "      <td>2017-05-16</td>\n",
       "      <td>7493</td>\n",
       "      <td>Germany</td>\n",
       "      <td>Foreign</td>\n",
       "    </tr>\n",
       "    <tr>\n",
       "      <th>2</th>\n",
       "      <td>2014</td>\n",
       "      <td>CHEVROLET</td>\n",
       "      <td>Volt</td>\n",
       "      <td>Used</td>\n",
       "      <td>10950</td>\n",
       "      <td>2020-07-31</td>\n",
       "      <td>Transfer Title</td>\n",
       "      <td>Chelan</td>\n",
       "      <td>Leavenworth</td>\n",
       "      <td>98826.0</td>\n",
       "      <td>2020-07-31</td>\n",
       "      <td>12050</td>\n",
       "      <td>United States</td>\n",
       "      <td>American</td>\n",
       "    </tr>\n",
       "    <tr>\n",
       "      <th>3</th>\n",
       "      <td>2018</td>\n",
       "      <td>KIA</td>\n",
       "      <td>Soul EV</td>\n",
       "      <td>New</td>\n",
       "      <td>22767</td>\n",
       "      <td>2018-05-23</td>\n",
       "      <td>Original Title</td>\n",
       "      <td>Kitsap</td>\n",
       "      <td>Bainbridge Island</td>\n",
       "      <td>98110.0</td>\n",
       "      <td>2018-05-07</td>\n",
       "      <td>15669</td>\n",
       "      <td>South Korea</td>\n",
       "      <td>Foreign</td>\n",
       "    </tr>\n",
       "    <tr>\n",
       "      <th>4</th>\n",
       "      <td>2016</td>\n",
       "      <td>TESLA</td>\n",
       "      <td>Model X</td>\n",
       "      <td>Used</td>\n",
       "      <td>63700</td>\n",
       "      <td>2020-01-22</td>\n",
       "      <td>Transfer Title</td>\n",
       "      <td>King</td>\n",
       "      <td>Seattle</td>\n",
       "      <td>98117.0</td>\n",
       "      <td>2020-01-11</td>\n",
       "      <td>23145</td>\n",
       "      <td>United States</td>\n",
       "      <td>American</td>\n",
       "    </tr>\n",
       "  </tbody>\n",
       "</table>\n",
       "</div>"
      ],
      "text/plain": [
       "   Model Year       Make    Model New or Used Vehicle  Sale Price  \\\n",
       "0        2018  CHEVROLET     Volt                 New       36456   \n",
       "1        2017        BMW       i3                 New       44941   \n",
       "2        2014  CHEVROLET     Volt                Used       10950   \n",
       "3        2018        KIA  Soul EV                 New       22767   \n",
       "4        2016      TESLA  Model X                Used       63700   \n",
       "\n",
       "  DOL Transaction Date Transaction Type     County               City  \\\n",
       "0           2018-06-08   Original Title  Jefferson      Port Townsend   \n",
       "1           2017-05-25   Original Title      Clark          Vancouver   \n",
       "2           2020-07-31   Transfer Title     Chelan        Leavenworth   \n",
       "3           2018-05-23   Original Title     Kitsap  Bainbridge Island   \n",
       "4           2020-01-22   Transfer Title       King            Seattle   \n",
       "\n",
       "   Postal Code  Sale Date  DOL Vehicle ID manufacturerCountry  \\\n",
       "0      98368.0 2018-05-25            4469       United States   \n",
       "1      98684.0 2017-05-16            7493             Germany   \n",
       "2      98826.0 2020-07-31           12050       United States   \n",
       "3      98110.0 2018-05-07           15669         South Korea   \n",
       "4      98117.0 2020-01-11           23145       United States   \n",
       "\n",
       "  americanOrForeign  \n",
       "0          American  \n",
       "1           Foreign  \n",
       "2          American  \n",
       "3           Foreign  \n",
       "4          American  "
      ]
     },
     "execution_count": 114,
     "metadata": {},
     "output_type": "execute_result"
    }
   ],
   "source": [
    "df2.head(5)"
   ]
  },
  {
   "cell_type": "markdown",
   "id": "2afdf3de",
   "metadata": {},
   "source": [
    "# Export"
   ]
  },
  {
   "cell_type": "code",
   "execution_count": 115,
   "id": "449e6a8f",
   "metadata": {},
   "outputs": [],
   "source": [
    "df2.to_csv('data/out/titleAndRegistration.csv', index=False)"
   ]
  }
 ],
 "metadata": {
  "kernelspec": {
   "display_name": "Python 3",
   "language": "python",
   "name": "python3"
  },
  "language_info": {
   "codemirror_mode": {
    "name": "ipython",
    "version": 3
   },
   "file_extension": ".py",
   "mimetype": "text/x-python",
   "name": "python",
   "nbconvert_exporter": "python",
   "pygments_lexer": "ipython3",
   "version": "3.8.5 (default, Sep  3 2020, 21:29:08) [MSC v.1916 64 bit (AMD64)]"
  },
  "vscode": {
   "interpreter": {
    "hash": "d3f6fc4e8711912eb57e28afb1b9cb657257233389dcce77c6e6e7304f0d6a64"
   }
  }
 },
 "nbformat": 4,
 "nbformat_minor": 5
}
